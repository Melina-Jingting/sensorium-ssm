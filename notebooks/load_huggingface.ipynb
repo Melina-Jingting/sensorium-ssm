{
 "cells": [
  {
   "cell_type": "code",
   "execution_count": 2,
   "metadata": {},
   "outputs": [
    {
     "name": "stderr",
     "output_type": "stream",
     "text": [
      "/workspace/sensorium-ssm/.venv/lib/python3.10/site-packages/tqdm/auto.py:21: TqdmWarning: IProgress not found. Please update jupyter and ipywidgets. See https://ipywidgets.readthedocs.io/en/stable/user_install.html\n",
      "  from .autonotebook import tqdm as notebook_tqdm\n"
     ]
    }
   ],
   "source": [
    "from datasets import load_dataset\n",
    "import numpy as np\n",
    "import os \n",
    "import sys \n",
    "sys.path.append(\"..\")\n",
    "\n",
    "from src import constants\n",
    "from src.datasets import mouse_dataloader_collate_fn\n",
    "from torch.utils.data import DataLoader"
   ]
  },
  {
   "cell_type": "code",
   "execution_count": null,
   "metadata": {},
   "outputs": [],
   "source": [
    "train_dataset = load_dataset(constants.huggingface_dataset, split=\"train\", streaming=True)\n",
    "test_dataset = load_dataset(constants.huggingface_dataset, split=\"test\", streaming=True)\n",
    "dataloader_collate_fn = mouse_dataloader_collate_fn\n",
    "\n",
    "train_dataloader = DataLoader(\n",
    "    train_dataset,\n",
    "    batch_size=3,  # Adjust as needed\n",
    "    num_workers=0,  # Use multiple workers for speed\n",
    "    collate_fn=lambda batch: dataloader_collate_fn(batch),\n",
    ")\n",
    "test_dataloader = DataLoader(\n",
    "    test_dataset,\n",
    "    batch_size=3,  # Adjust as needed\n",
    "    num_workers=0,  # Use multiple workers for speed\n",
    "    collate_fn=lambda batch: dataloader_collate_fn(batch),\n",
    ")\n"
   ]
  },
  {
   "cell_type": "code",
   "execution_count": 7,
   "metadata": {},
   "outputs": [],
   "source": [
    "from configs.true_batch_ssm_001 import config\n",
    "from src.models.dwiseneurossm import DwiseNeuroSSM\n",
    "argus_params = config[\"argus_params\"]\n",
    "model = DwiseNeuroSSM(**argus_params[\"nn_module\"][1])\n"
   ]
  },
  {
   "cell_type": "code",
   "execution_count": null,
   "metadata": {},
   "outputs": [],
   "source": [
    "for batch in test_dataloader:"
   ]
  }
 ],
 "metadata": {
  "kernelspec": {
   "display_name": ".venv",
   "language": "python",
   "name": "python3"
  },
  "language_info": {
   "codemirror_mode": {
    "name": "ipython",
    "version": 3
   },
   "file_extension": ".py",
   "mimetype": "text/x-python",
   "name": "python",
   "nbconvert_exporter": "python",
   "pygments_lexer": "ipython3",
   "version": "3.10.12"
  }
 },
 "nbformat": 4,
 "nbformat_minor": 2
}
