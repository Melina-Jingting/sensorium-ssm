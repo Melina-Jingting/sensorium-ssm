{
 "cells": [
  {
   "cell_type": "code",
   "execution_count": 2,
   "metadata": {},
   "outputs": [],
   "source": [
    "from datasets import load_dataset\n",
    "import numpy as np\n",
    "import os \n",
    "import sys \n",
    "sys.path.append(\"..\")\n",
    "\n",
    "from src import constants\n",
    "from src.datasets import mouse_dataloader_collate_fn\n",
    "from torch.utils.data import DataLoader"
   ]
  },
  {
   "cell_type": "code",
   "execution_count": 3,
   "metadata": {},
   "outputs": [],
   "source": [
    "train_dataset = load_dataset(constants.huggingface_dataset, split=\"train\", streaming=True)\n",
    "test_dataset = load_dataset(constants.huggingface_dataset, split=\"test\", streaming=True)\n",
    "dataloader_collate_fn = mouse_dataloader_collate_fn\n",
    "\n",
    "test_dataloader = DataLoader(\n",
    "    train_dataset,\n",
    "    batch_size=3,  # Adjust as needed\n",
    "    num_workers=0,  # Use multiple workers for speed\n",
    "    collate_fn=lambda batch: dataloader_collate_fn(batch),\n",
    ")\n",
    "test_dataloader = DataLoader(\n",
    "    test_dataset,\n",
    "    batch_size=3,  # Adjust as needed\n",
    "    num_workers=0,  # Use multiple workers for speed\n",
    "    collate_fn=lambda batch: dataloader_collate_fn(batch),\n",
    ")\n"
   ]
  },
  {
   "cell_type": "code",
   "execution_count": null,
   "metadata": {},
   "outputs": [],
   "source": []
  }
 ],
 "metadata": {
  "kernelspec": {
   "display_name": "venv",
   "language": "python",
   "name": "python3"
  },
  "language_info": {
   "codemirror_mode": {
    "name": "ipython",
    "version": 3
   },
   "file_extension": ".py",
   "mimetype": "text/x-python",
   "name": "python",
   "nbconvert_exporter": "python",
   "pygments_lexer": "ipython3",
   "version": "3.12.2"
  }
 },
 "nbformat": 4,
 "nbformat_minor": 2
}
