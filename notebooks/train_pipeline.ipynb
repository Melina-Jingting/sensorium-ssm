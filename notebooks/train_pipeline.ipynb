{
 "cells": [
  {
   "cell_type": "code",
   "execution_count": 1,
   "metadata": {},
   "outputs": [],
   "source": [
    "import sys \n",
    "sys.path.append(\"..\")\n",
    "%load_ext autoreload\n",
    "%autoreload 2"
   ]
  },
  {
   "cell_type": "code",
   "execution_count": 4,
   "metadata": {},
   "outputs": [
    {
     "name": "stderr",
     "output_type": "stream",
     "text": [
      "/workspace/sensorium-ssm/.venv/lib/python3.10/site-packages/tqdm/auto.py:21: TqdmWarning: IProgress not found. Please update jupyter and ipywidgets. See https://ipywidgets.readthedocs.io/en/stable/user_install.html\n",
      "  from .autonotebook import tqdm as notebook_tqdm\n"
     ]
    }
   ],
   "source": [
    "import torch\n",
    "from torch.utils.data import DataLoader\n",
    "\n",
    "\n",
    "from src.datasets import TrainMouseVideoDataset, ValMouseVideoDataset, ConcatMiceVideoDataset\n",
    "from src.utils import get_lr, init_weights, save_model_to_wandb, count_trainable_layers\n",
    "from src.responses import get_responses_processor\n",
    "from src.inputs import get_inputs_processor\n",
    "from src.indexes import IndexesGenerator\n",
    "from src.data import get_mouse_data\n",
    "from src.mixers import CutMix\n",
    "from src import constants\n",
    "\n",
    "from configs.dwiseneurossm_001 import config\n",
    "\n",
    "import torch\n",
    "import torch.nn as nn\n",
    "import torch.optim as optim\n",
    "from torch.utils.data import DataLoader\n",
    "import wandb\n",
    "import numpy as np\n",
    "\n",
    "from src.models.dwiseneurossm import DwiseNeuroSSM  # Direct import\n",
    "from src.losses import MicePoissonLoss\n",
    "from src.metrics import CorrelationMetric\n",
    "from torch.optim.lr_scheduler import LambdaLR, CosineAnnealingLR\n",
    "from argus.utils import deep_to, deep_detach, deep_chunk\n",
    "\n"
   ]
  },
  {
   "cell_type": "code",
   "execution_count": 5,
   "metadata": {},
   "outputs": [
    {
     "name": "stdout",
     "output_type": "stream",
     "text": [
      "Val fold: ['fold_0'], train folds: ['fold_1', 'fold_2', 'fold_3', 'fold_4', 'fold_5', 'fold_6']\n",
      "Fold experiment dir: data/experiments/true_batch_ssm_001\n",
      "Val fold: ['fold_1'], train folds: ['fold_0', 'fold_2', 'fold_3', 'fold_4', 'fold_5', 'fold_6']\n",
      "Fold experiment dir: data/experiments/true_batch_ssm_001\n",
      "Val fold: ['fold_2'], train folds: ['fold_0', 'fold_1', 'fold_3', 'fold_4', 'fold_5', 'fold_6']\n",
      "Fold experiment dir: data/experiments/true_batch_ssm_001\n",
      "Val fold: ['fold_3'], train folds: ['fold_0', 'fold_1', 'fold_2', 'fold_4', 'fold_5', 'fold_6']\n",
      "Fold experiment dir: data/experiments/true_batch_ssm_001\n",
      "Val fold: ['fold_4'], train folds: ['fold_0', 'fold_1', 'fold_2', 'fold_3', 'fold_5', 'fold_6']\n",
      "Fold experiment dir: data/experiments/true_batch_ssm_001\n",
      "Val fold: ['fold_5'], train folds: ['fold_0', 'fold_1', 'fold_2', 'fold_3', 'fold_4', 'fold_6']\n",
      "Fold experiment dir: data/experiments/true_batch_ssm_001\n",
      "Val fold: ['fold_6'], train folds: ['fold_0', 'fold_1', 'fold_2', 'fold_3', 'fold_4', 'fold_5']\n",
      "Fold experiment dir: data/experiments/true_batch_ssm_001\n"
     ]
    }
   ],
   "source": [
    "folds_splits = constants.folds_splits\n",
    "experiment = \"true_batch_ssm_001\"\n",
    "for fold_split in folds_splits:\n",
    "    fold_experiment_dir = constants.experiments_dir / experiment\n",
    "\n",
    "    val_folds_splits = [fold_split]\n",
    "    train_folds_splits = sorted(set(constants.folds_splits) - set(val_folds_splits))\n",
    "\n",
    "    print(f\"Val fold: {val_folds_splits}, train folds: {train_folds_splits}\")\n",
    "    print(f\"Fold experiment dir: {fold_experiment_dir}\")"
   ]
  },
  {
   "cell_type": "code",
   "execution_count": 6,
   "metadata": {},
   "outputs": [],
   "source": [
    "config=config\n",
    "save_dir=f\"../data/experiments/{experiment}/\"\n",
    "\n",
    "train_splits=train_folds_splits\n",
    "val_splits=val_folds_splits\n",
    "\n",
    "device = torch.device(\"cuda\" if torch.cuda.is_available() else \"cpu\")"
   ]
  },
  {
   "cell_type": "code",
   "execution_count": 7,
   "metadata": {},
   "outputs": [
    {
     "name": "stdout",
     "output_type": "stream",
     "text": [
      "159082106\n"
     ]
    }
   ],
   "source": [
    "import pandas as pd\n",
    "# Initialize model directly\n",
    "ssm_model = DwiseNeuroSSM(**config[\"nn_module\"][1])\n",
    "ssm_model.to(device)\n",
    "results = []\n",
    "for name, param in ssm_model.named_parameters():\n",
    "    if param.requires_grad:\n",
    "        results.append({\"name\": name, \"num_params\": param.numel()})\n",
    "results = pd.DataFrame(results)\n",
    "print(results.num_params.sum())\n"
   ]
  },
  {
   "cell_type": "code",
   "execution_count": 9,
   "metadata": {},
   "outputs": [],
   "source": [
    "# Dataset processing\n",
    "indexes_generator = IndexesGenerator(**config[\"frame_stack\"])\n",
    "inputs_processor = get_inputs_processor(*config[\"inputs_processor\"])\n",
    "responses_processor = get_responses_processor(*config[\"responses_processor\"])\n",
    "cutmix = CutMix(**config[\"cutmix\"])\n",
    "\n",
    "# Build training dataset\n",
    "train_datasets = []\n",
    "mouse_epoch_size = config[\"train_epoch_size\"] // constants.num_mice\n",
    "for mouse in constants.mice:\n",
    "    train_datasets.append(\n",
    "        TrainMouseVideoDataset(\n",
    "            mouse_data=get_mouse_data(mouse=mouse, splits=train_splits),\n",
    "            indexes_generator=indexes_generator,\n",
    "            inputs_processor=inputs_processor,\n",
    "            responses_processor=responses_processor,\n",
    "            epoch_size=mouse_epoch_size,\n",
    "            mixer=cutmix,\n",
    "        )\n",
    "    )\n",
    "train_dataset = ConcatMiceVideoDataset(train_datasets)\n",
    "\n",
    "# Build validation dataset\n",
    "val_datasets = []\n",
    "for mouse in constants.mice:\n",
    "    val_datasets.append(\n",
    "        ValMouseVideoDataset(\n",
    "            mouse_data=get_mouse_data(mouse=mouse, splits=val_splits),\n",
    "            indexes_generator=indexes_generator,\n",
    "            inputs_processor=inputs_processor,\n",
    "            responses_processor=responses_processor,\n",
    "        )\n",
    "    )\n",
    "val_dataset = ConcatMiceVideoDataset(val_datasets)\n",
    "\n",
    "# Create data loaders\n",
    "train_loader = DataLoader(\n",
    "    train_dataset,\n",
    "    batch_size=config[\"batch_size\"],\n",
    "    shuffle=True,\n",
    "    num_workers=config[\"num_dataloader_workers\"],\n",
    ")\n",
    "val_loader = DataLoader(\n",
    "    val_dataset,\n",
    "    batch_size=config[\"batch_size\"] // config[\"iter_size\"],\n",
    "    shuffle=False,\n",
    "    num_workers=config[\"num_dataloader_workers\"],\n",
    ")"
   ]
  },
  {
   "cell_type": "code",
   "execution_count": 10,
   "metadata": {},
   "outputs": [],
   "source": [
    "for batch in train_loader:\n",
    "    inputs, target = batch \n",
    "    break"
   ]
  },
  {
   "cell_type": "code",
   "execution_count": 11,
   "metadata": {},
   "outputs": [
    {
     "data": {
      "text/plain": [
       "torch.Size([32, 5, 16, 64, 64])"
      ]
     },
     "execution_count": 11,
     "metadata": {},
     "output_type": "execute_result"
    }
   ],
   "source": [
    "inputs.shape"
   ]
  },
  {
   "cell_type": "code",
   "execution_count": 12,
   "metadata": {},
   "outputs": [],
   "source": [
    "# Optimizer, scheduler, and loss\n",
    "optimizer = optim.Adam(ssm_model.parameters(), lr=config[\"base_lr\"])\n",
    "total_iterations = len(train_loader) * sum(config[\"num_epochs\"])\n",
    "scheduler = optim.lr_scheduler.CosineAnnealingLR(\n",
    "    optimizer, T_max=total_iterations, eta_min=get_lr(config[\"min_base_lr\"], config[\"batch_size\"])\n",
    ")\n",
    "loss_fn = MicePoissonLoss()  # Replace with the correct loss function if different\n",
    "correlation_metric = CorrelationMetric()\n",
    "\n",
    "# Training loop\n",
    "num_total_epochs = sum(config[\"num_epochs\"])\n",
    "global_step = 0\n",
    "iter_size = config.get(\"iter_size\", 1)  # Gradient accumulation\n",
    "grad_scaler = torch.amp.GradScaler(\"cuda\",enabled=True)  # Mixed precision"
   ]
  },
  {
   "cell_type": "code",
   "execution_count": null,
   "metadata": {},
   "outputs": [
    {
     "name": "stderr",
     "output_type": "stream",
     "text": [
      "\u001b[34m\u001b[1mwandb\u001b[0m: Using wandb-core as the SDK backend.  Please refer to https://wandb.me/wandb-core for more information.\n",
      "\u001b[34m\u001b[1mwandb\u001b[0m: Currently logged in as: \u001b[33mmelinajingting\u001b[0m (\u001b[33mmelinajingting-ucl\u001b[0m) to \u001b[32mhttps://api.wandb.ai\u001b[0m. Use \u001b[1m`wandb login --relogin`\u001b[0m to force relogin\n"
     ]
    },
    {
     "data": {
      "text/html": [
       "Tracking run with wandb version 0.19.8"
      ],
      "text/plain": [
       "<IPython.core.display.HTML object>"
      ]
     },
     "metadata": {},
     "output_type": "display_data"
    },
    {
     "data": {
      "text/html": [
       "Run data is saved locally in <code>/workspace/sensorium-ssm/notebooks/wandb/run-20250328_220636-mmv9mcpn</code>"
      ],
      "text/plain": [
       "<IPython.core.display.HTML object>"
      ]
     },
     "metadata": {},
     "output_type": "display_data"
    },
    {
     "data": {
      "text/html": [
       "Syncing run <strong><a href='https://wandb.ai/melinajingting-ucl/sensorium_ssm/runs/mmv9mcpn' target=\"_blank\">serene-glade-6</a></strong> to <a href='https://wandb.ai/melinajingting-ucl/sensorium_ssm' target=\"_blank\">Weights & Biases</a> (<a href='https://wandb.me/developer-guide' target=\"_blank\">docs</a>)<br>"
      ],
      "text/plain": [
       "<IPython.core.display.HTML object>"
      ]
     },
     "metadata": {},
     "output_type": "display_data"
    },
    {
     "data": {
      "text/html": [
       " View project at <a href='https://wandb.ai/melinajingting-ucl/sensorium_ssm' target=\"_blank\">https://wandb.ai/melinajingting-ucl/sensorium_ssm</a>"
      ],
      "text/plain": [
       "<IPython.core.display.HTML object>"
      ]
     },
     "metadata": {},
     "output_type": "display_data"
    },
    {
     "data": {
      "text/html": [
       " View run at <a href='https://wandb.ai/melinajingting-ucl/sensorium_ssm/runs/mmv9mcpn' target=\"_blank\">https://wandb.ai/melinajingting-ucl/sensorium_ssm/runs/mmv9mcpn</a>"
      ],
      "text/plain": [
       "<IPython.core.display.HTML object>"
      ]
     },
     "metadata": {},
     "output_type": "display_data"
    },
    {
     "name": "stderr",
     "output_type": "stream",
     "text": [
      "/workspace/sensorium-ssm/.venv/lib/python3.10/site-packages/torch/optim/lr_scheduler.py:227: UserWarning: Detected call of `lr_scheduler.step()` before `optimizer.step()`. In PyTorch 1.1.0 and later, you should call them in the opposite order: `optimizer.step()` before `lr_scheduler.step()`.  Failure to do this will result in PyTorch skipping the first value of the learning rate schedule. See more details at https://pytorch.org/docs/stable/optim.html#how-to-adjust-learning-rate\n",
      "  warnings.warn(\n"
     ]
    },
    {
     "name": "stdout",
     "output_type": "stream",
     "text": [
      "Epoch 1/12 - Train Loss: nan - Val Loss: 8495730551308658.0000 - Corr: 0.0043\n"
     ]
    },
    {
     "ename": "ValueError",
     "evalue": "Key values passed to `wandb.log` must be strings.",
     "output_type": "error",
     "traceback": [
      "\u001b[0;31m---------------------------------------------------------------------------\u001b[0m",
      "\u001b[0;31mValueError\u001b[0m                                Traceback (most recent call last)",
      "Cell \u001b[0;32mIn[13], line 63\u001b[0m\n\u001b[1;32m     60\u001b[0m     epoch_metrics[\u001b[38;5;124mf\u001b[39m\u001b[38;5;124m\"\u001b[39m\u001b[38;5;124mval_corr_mouse_\u001b[39m\u001b[38;5;132;01m{\u001b[39;00mmouse_index\u001b[38;5;132;01m}\u001b[39;00m\u001b[38;5;124m\"\u001b[39m] \u001b[38;5;241m=\u001b[39m mouse_corr\n\u001b[1;32m     62\u001b[0m epoch_metrics\u001b[38;5;241m.\u001b[39mupdate(val_corr)\n\u001b[0;32m---> 63\u001b[0m \u001b[43mwandb\u001b[49m\u001b[38;5;241;43m.\u001b[39;49m\u001b[43mlog\u001b[49m\u001b[43m(\u001b[49m\u001b[43mepoch_metrics\u001b[49m\u001b[43m)\u001b[49m\n\u001b[1;32m     64\u001b[0m save_model_to_wandb(ssm_model, epoch, save_dir)\n",
      "File \u001b[0;32m/workspace/sensorium-ssm/.venv/lib/python3.10/site-packages/wandb/sdk/wandb_run.py:449\u001b[0m, in \u001b[0;36m_run_decorator._noop.<locals>.wrapper\u001b[0;34m(self, *args, **kwargs)\u001b[0m\n\u001b[1;32m    446\u001b[0m         wandb\u001b[38;5;241m.\u001b[39mtermwarn(message, repeat\u001b[38;5;241m=\u001b[39m\u001b[38;5;28;01mFalse\u001b[39;00m)\n\u001b[1;32m    447\u001b[0m         \u001b[38;5;28;01mreturn\u001b[39;00m \u001b[38;5;28mcls\u001b[39m\u001b[38;5;241m.\u001b[39mDummy()\n\u001b[0;32m--> 449\u001b[0m \u001b[38;5;28;01mreturn\u001b[39;00m \u001b[43mfunc\u001b[49m\u001b[43m(\u001b[49m\u001b[38;5;28;43mself\u001b[39;49m\u001b[43m,\u001b[49m\u001b[43m \u001b[49m\u001b[38;5;241;43m*\u001b[39;49m\u001b[43margs\u001b[49m\u001b[43m,\u001b[49m\u001b[43m \u001b[49m\u001b[38;5;241;43m*\u001b[39;49m\u001b[38;5;241;43m*\u001b[39;49m\u001b[43mkwargs\u001b[49m\u001b[43m)\u001b[49m\n",
      "File \u001b[0;32m/workspace/sensorium-ssm/.venv/lib/python3.10/site-packages/wandb/sdk/wandb_run.py:401\u001b[0m, in \u001b[0;36m_run_decorator._noop_on_finish.<locals>.decorator_fn.<locals>.wrapper_fn\u001b[0;34m(self, *args, **kwargs)\u001b[0m\n\u001b[1;32m    398\u001b[0m \u001b[38;5;129m@functools\u001b[39m\u001b[38;5;241m.\u001b[39mwraps(func)\n\u001b[1;32m    399\u001b[0m \u001b[38;5;28;01mdef\u001b[39;00m\u001b[38;5;250m \u001b[39m\u001b[38;5;21mwrapper_fn\u001b[39m(\u001b[38;5;28mself\u001b[39m: \u001b[38;5;28mtype\u001b[39m[Run], \u001b[38;5;241m*\u001b[39margs: Any, \u001b[38;5;241m*\u001b[39m\u001b[38;5;241m*\u001b[39mkwargs: Any) \u001b[38;5;241m-\u001b[39m\u001b[38;5;241m>\u001b[39m Any:\n\u001b[1;32m    400\u001b[0m     \u001b[38;5;28;01mif\u001b[39;00m \u001b[38;5;129;01mnot\u001b[39;00m \u001b[38;5;28mgetattr\u001b[39m(\u001b[38;5;28mself\u001b[39m, \u001b[38;5;124m\"\u001b[39m\u001b[38;5;124m_is_finished\u001b[39m\u001b[38;5;124m\"\u001b[39m, \u001b[38;5;28;01mFalse\u001b[39;00m):\n\u001b[0;32m--> 401\u001b[0m         \u001b[38;5;28;01mreturn\u001b[39;00m \u001b[43mfunc\u001b[49m\u001b[43m(\u001b[49m\u001b[38;5;28;43mself\u001b[39;49m\u001b[43m,\u001b[49m\u001b[43m \u001b[49m\u001b[38;5;241;43m*\u001b[39;49m\u001b[43margs\u001b[49m\u001b[43m,\u001b[49m\u001b[43m \u001b[49m\u001b[38;5;241;43m*\u001b[39;49m\u001b[38;5;241;43m*\u001b[39;49m\u001b[43mkwargs\u001b[49m\u001b[43m)\u001b[49m\n\u001b[1;32m    403\u001b[0m     default_message \u001b[38;5;241m=\u001b[39m (\n\u001b[1;32m    404\u001b[0m         \u001b[38;5;124mf\u001b[39m\u001b[38;5;124m\"\u001b[39m\u001b[38;5;124mRun (\u001b[39m\u001b[38;5;132;01m{\u001b[39;00m\u001b[38;5;28mself\u001b[39m\u001b[38;5;241m.\u001b[39mid\u001b[38;5;132;01m}\u001b[39;00m\u001b[38;5;124m) is finished. The call to `\u001b[39m\u001b[38;5;132;01m{\u001b[39;00mfunc\u001b[38;5;241m.\u001b[39m\u001b[38;5;18m__name__\u001b[39m\u001b[38;5;132;01m}\u001b[39;00m\u001b[38;5;124m` will be ignored. \u001b[39m\u001b[38;5;124m\"\u001b[39m\n\u001b[1;32m    405\u001b[0m         \u001b[38;5;124mf\u001b[39m\u001b[38;5;124m\"\u001b[39m\u001b[38;5;124mPlease make sure that you are using an active run.\u001b[39m\u001b[38;5;124m\"\u001b[39m\n\u001b[1;32m    406\u001b[0m     )\n\u001b[1;32m    407\u001b[0m     resolved_message \u001b[38;5;241m=\u001b[39m message \u001b[38;5;129;01mor\u001b[39;00m default_message\n",
      "File \u001b[0;32m/workspace/sensorium-ssm/.venv/lib/python3.10/site-packages/wandb/sdk/wandb_run.py:391\u001b[0m, in \u001b[0;36m_run_decorator._attach.<locals>.wrapper\u001b[0;34m(self, *args, **kwargs)\u001b[0m\n\u001b[1;32m    389\u001b[0m         \u001b[38;5;28;01mraise\u001b[39;00m e\n\u001b[1;32m    390\u001b[0m     \u001b[38;5;28mcls\u001b[39m\u001b[38;5;241m.\u001b[39m_is_attaching \u001b[38;5;241m=\u001b[39m \u001b[38;5;124m\"\u001b[39m\u001b[38;5;124m\"\u001b[39m\n\u001b[0;32m--> 391\u001b[0m \u001b[38;5;28;01mreturn\u001b[39;00m \u001b[43mfunc\u001b[49m\u001b[43m(\u001b[49m\u001b[38;5;28;43mself\u001b[39;49m\u001b[43m,\u001b[49m\u001b[43m \u001b[49m\u001b[38;5;241;43m*\u001b[39;49m\u001b[43margs\u001b[49m\u001b[43m,\u001b[49m\u001b[43m \u001b[49m\u001b[38;5;241;43m*\u001b[39;49m\u001b[38;5;241;43m*\u001b[39;49m\u001b[43mkwargs\u001b[49m\u001b[43m)\u001b[49m\n",
      "File \u001b[0;32m/workspace/sensorium-ssm/.venv/lib/python3.10/site-packages/wandb/sdk/wandb_run.py:1873\u001b[0m, in \u001b[0;36mRun.log\u001b[0;34m(self, data, step, commit, sync)\u001b[0m\n\u001b[1;32m   1866\u001b[0m \u001b[38;5;28;01mif\u001b[39;00m \u001b[38;5;28mself\u001b[39m\u001b[38;5;241m.\u001b[39m_settings\u001b[38;5;241m.\u001b[39m_shared \u001b[38;5;129;01mand\u001b[39;00m step \u001b[38;5;129;01mis\u001b[39;00m \u001b[38;5;129;01mnot\u001b[39;00m \u001b[38;5;28;01mNone\u001b[39;00m:\n\u001b[1;32m   1867\u001b[0m     wandb\u001b[38;5;241m.\u001b[39mtermwarn(\n\u001b[1;32m   1868\u001b[0m         \u001b[38;5;124m\"\u001b[39m\u001b[38;5;124mIn shared mode, the use of `wandb.log` with the step argument is not supported \u001b[39m\u001b[38;5;124m\"\u001b[39m\n\u001b[1;32m   1869\u001b[0m         \u001b[38;5;124mf\u001b[39m\u001b[38;5;124m\"\u001b[39m\u001b[38;5;124mand will be ignored. Please refer to \u001b[39m\u001b[38;5;132;01m{\u001b[39;00murl_registry\u001b[38;5;241m.\u001b[39murl(\u001b[38;5;124m'\u001b[39m\u001b[38;5;124mdefine-metric\u001b[39m\u001b[38;5;124m'\u001b[39m)\u001b[38;5;132;01m}\u001b[39;00m\u001b[38;5;124m \u001b[39m\u001b[38;5;124m\"\u001b[39m\n\u001b[1;32m   1870\u001b[0m         \u001b[38;5;124m\"\u001b[39m\u001b[38;5;124mon how to customize your x-axis.\u001b[39m\u001b[38;5;124m\"\u001b[39m,\n\u001b[1;32m   1871\u001b[0m         repeat\u001b[38;5;241m=\u001b[39m\u001b[38;5;28;01mFalse\u001b[39;00m,\n\u001b[1;32m   1872\u001b[0m     )\n\u001b[0;32m-> 1873\u001b[0m \u001b[38;5;28;43mself\u001b[39;49m\u001b[38;5;241;43m.\u001b[39;49m\u001b[43m_log\u001b[49m\u001b[43m(\u001b[49m\u001b[43mdata\u001b[49m\u001b[38;5;241;43m=\u001b[39;49m\u001b[43mdata\u001b[49m\u001b[43m,\u001b[49m\u001b[43m \u001b[49m\u001b[43mstep\u001b[49m\u001b[38;5;241;43m=\u001b[39;49m\u001b[43mstep\u001b[49m\u001b[43m,\u001b[49m\u001b[43m \u001b[49m\u001b[43mcommit\u001b[49m\u001b[38;5;241;43m=\u001b[39;49m\u001b[43mcommit\u001b[49m\u001b[43m)\u001b[49m\n",
      "File \u001b[0;32m/workspace/sensorium-ssm/.venv/lib/python3.10/site-packages/wandb/sdk/wandb_run.py:1585\u001b[0m, in \u001b[0;36mRun._log\u001b[0;34m(self, data, step, commit)\u001b[0m\n\u001b[1;32m   1582\u001b[0m     \u001b[38;5;28;01mraise\u001b[39;00m \u001b[38;5;167;01mValueError\u001b[39;00m(\u001b[38;5;124m\"\u001b[39m\u001b[38;5;124mwandb.log must be passed a dictionary\u001b[39m\u001b[38;5;124m\"\u001b[39m)\n\u001b[1;32m   1584\u001b[0m \u001b[38;5;28;01mif\u001b[39;00m \u001b[38;5;28many\u001b[39m(\u001b[38;5;129;01mnot\u001b[39;00m \u001b[38;5;28misinstance\u001b[39m(key, \u001b[38;5;28mstr\u001b[39m) \u001b[38;5;28;01mfor\u001b[39;00m key \u001b[38;5;129;01min\u001b[39;00m data\u001b[38;5;241m.\u001b[39mkeys()):\n\u001b[0;32m-> 1585\u001b[0m     \u001b[38;5;28;01mraise\u001b[39;00m \u001b[38;5;167;01mValueError\u001b[39;00m(\u001b[38;5;124m\"\u001b[39m\u001b[38;5;124mKey values passed to `wandb.log` must be strings.\u001b[39m\u001b[38;5;124m\"\u001b[39m)\n\u001b[1;32m   1587\u001b[0m \u001b[38;5;28mself\u001b[39m\u001b[38;5;241m.\u001b[39m_partial_history_callback(data, step, commit)\n\u001b[1;32m   1589\u001b[0m \u001b[38;5;28;01mif\u001b[39;00m step \u001b[38;5;129;01mis\u001b[39;00m \u001b[38;5;129;01mnot\u001b[39;00m \u001b[38;5;28;01mNone\u001b[39;00m:\n",
      "\u001b[0;31mValueError\u001b[0m: Key values passed to `wandb.log` must be strings."
     ]
    }
   ],
   "source": [
    "wandb.init(project=\"sensorium_ssm\", config=config)\n",
    "\n",
    "for num_epochs, stage in zip(config[\"num_epochs\"], config[\"stages\"]):\n",
    "    \n",
    "    num_iterations = (len(train_dataset) // config[\"batch_size\"]) * num_epochs\n",
    "    if stage == \"warmup\":\n",
    "        scheduler = LambdaLR(optimizer, lr_lambda=lambda x: x / num_iterations)\n",
    "    elif stage == \"train\":\n",
    "        scheduler = CosineAnnealingLR(optimizer, T_max=num_iterations, eta_min=get_lr(config[\"min_base_lr\"], config[\"batch_size\"]))\n",
    "\n",
    "    for epoch in range(num_epochs):\n",
    "        ssm_model.train()\n",
    "        epoch_loss = 0.0\n",
    "        optimizer.zero_grad()\n",
    "\n",
    "        for i, batch in enumerate(train_loader):\n",
    "            inputs, target = deep_to(batch, device=device, non_blocking=True)\n",
    "\n",
    "            with torch.amp.autocast('cuda', enabled=True):                \n",
    "                prediction = ssm_model(inputs)\n",
    "                loss = loss_fn(prediction, target) / iter_size  # Scale loss for accumulation\n",
    "\n",
    "            grad_scaler.scale(loss).backward()\n",
    "            epoch_loss += loss.item() * iter_size\n",
    "\n",
    "            if (i + 1) % iter_size == 0:\n",
    "                grad_scaler.step(optimizer)\n",
    "                grad_scaler.update()\n",
    "                optimizer.zero_grad()\n",
    "                scheduler.step()\n",
    "                global_step += 1\n",
    "                wandb.log({\"train_loss\": loss.item() * iter_size, \"lr\": optimizer.param_groups[0][\"lr\"], \"epoch\": epoch + 1, \"global_step\": global_step})\n",
    "\n",
    "        # Validation step\n",
    "        ssm_model.eval()\n",
    "        val_loss = 0.0\n",
    "        correlation_metric.reset()\n",
    "        \n",
    "        with torch.no_grad():\n",
    "            for batch in val_loader:\n",
    "                inputs, target = batch\n",
    "                inputs, target = deep_to(batch, device, non_blocking=True)\n",
    "                prediction = ssm_model(inputs)\n",
    "                loss = loss_fn(prediction, target)\n",
    "                val_loss += loss.item()\n",
    "                correlation_metric.update({\"prediction\": prediction, \"target\": target})\n",
    "        \n",
    "        val_loss /= len(val_loader)\n",
    "        val_corr = correlation_metric.compute()\n",
    "        avg_corr = np.mean(list(val_corr.values()))  # Get overall mean correlation\n",
    "        \n",
    "        print(f\"Epoch {epoch+1}/{num_total_epochs} - Train Loss: {epoch_loss/len(train_loader):.4f} - Val Loss: {val_loss:.4f} - Corr: {avg_corr:.4f}\")\n",
    "        epoch_metrics = {\n",
    "            \"epoch_train_loss\": epoch_loss / len(train_loader),\n",
    "            \"epoch_val_loss\": val_loss,\n",
    "            \"epoch_correlation\": avg_corr,\n",
    "            \"epoch\": epoch + 1\n",
    "        }\n",
    "        for mouse_index, mouse_corr in val_corr.items():\n",
    "            epoch_metrics[f\"val_corr_mouse_{mouse_index}\"] = mouse_corr\n",
    "        \n",
    "        wandb.log(epoch_metrics)\n",
    "        save_model_to_wandb(ssm_model, epoch, save_dir)\n"
   ]
  },
  {
   "cell_type": "code",
   "execution_count": 23,
   "metadata": {},
   "outputs": [
    {
     "data": {
      "text/html": [],
      "text/plain": [
       "<IPython.core.display.HTML object>"
      ]
     },
     "metadata": {},
     "output_type": "display_data"
    },
    {
     "data": {
      "text/html": [
       "<br>    <style><br>        .wandb-row {<br>            display: flex;<br>            flex-direction: row;<br>            flex-wrap: wrap;<br>            justify-content: flex-start;<br>            width: 100%;<br>        }<br>        .wandb-col {<br>            display: flex;<br>            flex-direction: column;<br>            flex-basis: 100%;<br>            flex: 1;<br>            padding: 10px;<br>        }<br>    </style><br><div class=\"wandb-row\"><div class=\"wandb-col\"><h3>Run history:</h3><br/><table class=\"wandb\"><tr><td>epoch</td><td>▁▁▁▁▁▁▁▁▁▁▁▁▁▁▁▁▁▁▁▁▁▁▁▁▁▁▁▁▁▁▁▁▁▁▁▁▁▁▁▁</td></tr><tr><td>global_step</td><td>▁▁▁▁▂▂▂▂▂▂▃▃▃▃▄▄▄▄▄▄▄▄▅▅▅▅▅▅▆▆▆▇▇▇▇█████</td></tr><tr><td>lr</td><td>▁▁▁▂▂▂▂▃▃▃▃▄▄▄▄▅▅▅▅▅▅▅▅▅▆▆▆▆▆▇▇▇▇▇▇█████</td></tr><tr><td>train_loss</td><td>▂ ▁ █                                   </td></tr><tr><td>val_corr_mouse_0</td><td>▁</td></tr><tr><td>val_corr_mouse_1</td><td>▁</td></tr><tr><td>val_corr_mouse_2</td><td>▁</td></tr><tr><td>val_corr_mouse_3</td><td>▁</td></tr><tr><td>val_corr_mouse_4</td><td>▁</td></tr><tr><td>val_corr_mouse_5</td><td>▁</td></tr><tr><td>val_corr_mouse_6</td><td>▁</td></tr><tr><td>val_corr_mouse_7</td><td>▁</td></tr><tr><td>val_corr_mouse_8</td><td>▁</td></tr><tr><td>val_corr_mouse_9</td><td>▁</td></tr></table><br/></div><div class=\"wandb-col\"><h3>Run summary:</h3><br/><table class=\"wandb\"><tr><td>epoch</td><td>1</td></tr><tr><td>epoch_train_loss</td><td>nan</td></tr><tr><td>epoch_val_loss</td><td>nan</td></tr><tr><td>global_step</td><td>2250</td></tr><tr><td>lr</td><td>0.00015</td></tr><tr><td>train_loss</td><td>nan</td></tr><tr><td>val_corr_mouse_0</td><td>0</td></tr><tr><td>val_corr_mouse_1</td><td>0</td></tr><tr><td>val_corr_mouse_2</td><td>0</td></tr><tr><td>val_corr_mouse_3</td><td>0</td></tr><tr><td>val_corr_mouse_4</td><td>0</td></tr><tr><td>val_corr_mouse_5</td><td>0</td></tr><tr><td>val_corr_mouse_6</td><td>0</td></tr><tr><td>val_corr_mouse_7</td><td>0</td></tr><tr><td>val_corr_mouse_8</td><td>0</td></tr><tr><td>val_corr_mouse_9</td><td>0</td></tr></table><br/></div></div>"
      ],
      "text/plain": [
       "<IPython.core.display.HTML object>"
      ]
     },
     "metadata": {},
     "output_type": "display_data"
    },
    {
     "data": {
      "text/html": [
       " View run <strong style=\"color:#cdcd00\">vital-wood-5</strong> at: <a href='https://wandb.ai/melinajingting-ucl/sensorium_ssm/runs/4fiugwlm' target=\"_blank\">https://wandb.ai/melinajingting-ucl/sensorium_ssm/runs/4fiugwlm</a><br> View project at: <a href='https://wandb.ai/melinajingting-ucl/sensorium_ssm' target=\"_blank\">https://wandb.ai/melinajingting-ucl/sensorium_ssm</a><br>Synced 5 W&B file(s), 0 media file(s), 0 artifact file(s) and 0 other file(s)"
      ],
      "text/plain": [
       "<IPython.core.display.HTML object>"
      ]
     },
     "metadata": {},
     "output_type": "display_data"
    },
    {
     "data": {
      "text/html": [
       "Find logs at: <code>./wandb/run-20250328_211630-4fiugwlm/logs</code>"
      ],
      "text/plain": [
       "<IPython.core.display.HTML object>"
      ]
     },
     "metadata": {},
     "output_type": "display_data"
    }
   ],
   "source": [
    "wandb.finish()"
   ]
  },
  {
   "cell_type": "code",
   "execution_count": null,
   "metadata": {},
   "outputs": [],
   "source": []
  },
  {
   "cell_type": "code",
   "execution_count": 22,
   "metadata": {},
   "outputs": [],
   "source": [
    "wandb.log(epoch_metrics)"
   ]
  },
  {
   "cell_type": "code",
   "execution_count": 20,
   "metadata": {},
   "outputs": [
    {
     "data": {
      "text/plain": [
       "{'epoch_train_loss': nan,\n",
       " 'epoch_val_loss': nan,\n",
       " 'epoch_correlation': np.float32(nan),\n",
       " 'epoch': 1,\n",
       " 'val_corr_mouse_0': np.float32(nan),\n",
       " 'val_corr_mouse_1': np.float32(nan),\n",
       " 'val_corr_mouse_2': np.float32(nan),\n",
       " 'val_corr_mouse_3': np.float32(nan),\n",
       " 'val_corr_mouse_4': np.float32(nan),\n",
       " 'val_corr_mouse_5': np.float32(nan),\n",
       " 'val_corr_mouse_6': np.float32(nan),\n",
       " 'val_corr_mouse_7': np.float32(nan),\n",
       " 'val_corr_mouse_8': np.float32(nan),\n",
       " 'val_corr_mouse_9': np.float32(nan)}"
      ]
     },
     "execution_count": 20,
     "metadata": {},
     "output_type": "execute_result"
    }
   ],
   "source": [
    "epoch_metrics"
   ]
  },
  {
   "cell_type": "code",
   "execution_count": 2,
   "metadata": {},
   "outputs": [
    {
     "ename": "NameError",
     "evalue": "name 'save_model_to_wandb' is not defined",
     "output_type": "error",
     "traceback": [
      "\u001b[0;31m---------------------------------------------------------------------------\u001b[0m",
      "\u001b[0;31mNameError\u001b[0m                                 Traceback (most recent call last)",
      "Cell \u001b[0;32mIn[2], line 1\u001b[0m\n\u001b[0;32m----> 1\u001b[0m \u001b[43msave_model_to_wandb\u001b[49m(ssm_model\u001b[38;5;241m.\u001b[39mstate_dict(), epoch, save_dir)\n",
      "\u001b[0;31mNameError\u001b[0m: name 'save_model_to_wandb' is not defined"
     ]
    }
   ],
   "source": [
    "save_model_to_wandb(ssm_model.state_dict(), epoch, save_dir)"
   ]
  },
  {
   "cell_type": "code",
   "execution_count": 6,
   "metadata": {},
   "outputs": [
    {
     "name": "stderr",
     "output_type": "stream",
     "text": [
      "\u001b[34m\u001b[1mwandb\u001b[0m: Using wandb-core as the SDK backend.  Please refer to https://wandb.me/wandb-core for more information.\n",
      "\u001b[34m\u001b[1mwandb\u001b[0m: Currently logged in as: \u001b[33mmelinajingting\u001b[0m (\u001b[33mmelinajingting-ucl\u001b[0m) to \u001b[32mhttps://api.wandb.ai\u001b[0m. Use \u001b[1m`wandb login --relogin`\u001b[0m to force relogin\n"
     ]
    },
    {
     "data": {
      "text/html": [
       "Tracking run with wandb version 0.19.8"
      ],
      "text/plain": [
       "<IPython.core.display.HTML object>"
      ]
     },
     "metadata": {},
     "output_type": "display_data"
    },
    {
     "data": {
      "text/html": [
       "Run data is saved locally in <code>/workspace/sensorium-ssm/notebooks/wandb/run-20250328_194735-w6zkiskr</code>"
      ],
      "text/plain": [
       "<IPython.core.display.HTML object>"
      ]
     },
     "metadata": {},
     "output_type": "display_data"
    },
    {
     "data": {
      "text/html": [
       "Syncing run <strong><a href='https://wandb.ai/melinajingting-ucl/sensorium_ssm/runs/w6zkiskr' target=\"_blank\">whole-oath-2</a></strong> to <a href='https://wandb.ai/melinajingting-ucl/sensorium_ssm' target=\"_blank\">Weights & Biases</a> (<a href='https://wandb.me/developer-guide' target=\"_blank\">docs</a>)<br>"
      ],
      "text/plain": [
       "<IPython.core.display.HTML object>"
      ]
     },
     "metadata": {},
     "output_type": "display_data"
    },
    {
     "data": {
      "text/html": [
       " View project at <a href='https://wandb.ai/melinajingting-ucl/sensorium_ssm' target=\"_blank\">https://wandb.ai/melinajingting-ucl/sensorium_ssm</a>"
      ],
      "text/plain": [
       "<IPython.core.display.HTML object>"
      ]
     },
     "metadata": {},
     "output_type": "display_data"
    },
    {
     "data": {
      "text/html": [
       " View run at <a href='https://wandb.ai/melinajingting-ucl/sensorium_ssm/runs/w6zkiskr' target=\"_blank\">https://wandb.ai/melinajingting-ucl/sensorium_ssm/runs/w6zkiskr</a>"
      ],
      "text/plain": [
       "<IPython.core.display.HTML object>"
      ]
     },
     "metadata": {},
     "output_type": "display_data"
    },
    {
     "name": "stdout",
     "output_type": "stream",
     "text": [
      "Initializing weights...\n"
     ]
    },
    {
     "ename": "AttributeError",
     "evalue": "'list' object has no attribute 'to'",
     "output_type": "error",
     "traceback": [
      "\u001b[0;31m---------------------------------------------------------------------------\u001b[0m",
      "\u001b[0;31mAttributeError\u001b[0m                            Traceback (most recent call last)",
      "Cell \u001b[0;32mIn[6], line 1\u001b[0m\n\u001b[0;32m----> 1\u001b[0m \u001b[43mminimal_train_loop\u001b[49m\u001b[43m(\u001b[49m\u001b[43mconfig\u001b[49m\u001b[43m,\u001b[49m\u001b[43m \u001b[49m\u001b[38;5;124;43m\"\u001b[39;49m\u001b[38;5;124;43mdata/experiments/sensorium_ssm\u001b[39;49m\u001b[38;5;124;43m\"\u001b[39;49m\u001b[43m,\u001b[49m\u001b[43m \u001b[49m\u001b[43mtrain_folds_splits\u001b[49m\u001b[43m,\u001b[49m\u001b[43m \u001b[49m\u001b[43mval_folds_splits\u001b[49m\u001b[43m)\u001b[49m\n",
      "Cell \u001b[0;32mIn[4], line 116\u001b[0m, in \u001b[0;36mminimal_train_loop\u001b[0;34m(config, save_dir, train_splits, val_splits)\u001b[0m\n\u001b[1;32m    114\u001b[0m \u001b[38;5;28;01mfor\u001b[39;00m i, batch \u001b[38;5;129;01min\u001b[39;00m \u001b[38;5;28menumerate\u001b[39m(train_loader):\n\u001b[1;32m    115\u001b[0m     inputs, target \u001b[38;5;241m=\u001b[39m batch\n\u001b[0;32m--> 116\u001b[0m     inputs, target \u001b[38;5;241m=\u001b[39m inputs\u001b[38;5;241m.\u001b[39mto(device), \u001b[43mtarget\u001b[49m\u001b[38;5;241;43m.\u001b[39;49m\u001b[43mto\u001b[49m(device)\n\u001b[1;32m    118\u001b[0m     \u001b[38;5;28;01mwith\u001b[39;00m torch\u001b[38;5;241m.\u001b[39mamp\u001b[38;5;241m.\u001b[39mautocast(\u001b[38;5;124m'\u001b[39m\u001b[38;5;124mcuda\u001b[39m\u001b[38;5;124m'\u001b[39m, enabled\u001b[38;5;241m=\u001b[39m\u001b[38;5;28;01mTrue\u001b[39;00m):                \n\u001b[1;32m    119\u001b[0m         prediction \u001b[38;5;241m=\u001b[39m ssm_model(inputs)\n",
      "\u001b[0;31mAttributeError\u001b[0m: 'list' object has no attribute 'to'"
     ]
    }
   ],
   "source": [
    "minimal_train_loop(config, \"data/experiments/sensorium_ssm\", train_folds_splits, val_folds_splits)"
   ]
  },
  {
   "cell_type": "code",
   "execution_count": 10,
   "metadata": {},
   "outputs": [
    {
     "name": "stdout",
     "output_type": "stream",
     "text": [
      "Train dataset len: 72000\n",
      "Val dataset len: 585\n"
     ]
    }
   ],
   "source": [
    "indexes_generator = IndexesGenerator(**argus_params[\"frame_stack\"])\n",
    "inputs_processor = get_inputs_processor(*argus_params[\"inputs_processor\"])\n",
    "responses_processor = get_responses_processor(*argus_params[\"responses_processor\"])\n",
    "\n",
    "cutmix = CutMix(**config[\"cutmix\"])\n",
    "train_datasets = []\n",
    "mouse_epoch_size = config[\"train_epoch_size\"] // constants.num_mice\n",
    "for mouse in constants.mice:\n",
    "    train_datasets += [\n",
    "        TrainMouseVideoDataset(\n",
    "            mouse_data=get_mouse_data(mouse=mouse, splits=train_folds_splits),\n",
    "            indexes_generator=indexes_generator,\n",
    "            inputs_processor=inputs_processor,\n",
    "            responses_processor=responses_processor,\n",
    "            epoch_size=mouse_epoch_size,\n",
    "            mixer=cutmix,\n",
    "        )\n",
    "    ]\n",
    "train_dataset = ConcatMiceVideoDataset(train_datasets)\n",
    "print(\"Train dataset len:\", len(train_dataset))\n",
    "val_datasets = []\n",
    "for mouse in constants.mice:\n",
    "    val_datasets += [\n",
    "        ValMouseVideoDataset(\n",
    "            mouse_data=get_mouse_data(mouse=mouse, splits=val_folds_splits),\n",
    "            indexes_generator=indexes_generator,\n",
    "            inputs_processor=inputs_processor,\n",
    "            responses_processor=responses_processor,\n",
    "        )\n",
    "    ]\n",
    "val_dataset = ConcatMiceVideoDataset(val_datasets)\n",
    "print(\"Val dataset len:\", len(val_dataset))\n",
    "\n",
    "train_loader = DataLoader(\n",
    "    train_dataset,\n",
    "    batch_size=config[\"batch_size\"],\n",
    "    num_workers=config[\"num_dataloader_workers\"],\n",
    "    shuffle=True,\n",
    ")\n",
    "val_loader = DataLoader(\n",
    "    val_dataset,\n",
    "    batch_size=config[\"batch_size\"] // argus_params[\"iter_size\"],\n",
    "    num_workers=config[\"num_dataloader_workers\"],\n",
    "    shuffle=False,\n",
    ")"
   ]
  },
  {
   "cell_type": "code",
   "execution_count": 3,
   "metadata": {},
   "outputs": [
    {
     "name": "stderr",
     "output_type": "stream",
     "text": [
      "/workspace/sensorium-ssm/.venv/lib/python3.10/site-packages/tqdm/auto.py:21: TqdmWarning: IProgress not found. Please update jupyter and ipywidgets. See https://ipywidgets.readthedocs.io/en/stable/user_install.html\n",
      "  from .autonotebook import tqdm as notebook_tqdm\n"
     ]
    },
    {
     "name": "stdout",
     "output_type": "stream",
     "text": [
      "118537850\n",
      "170656070\n"
     ]
    }
   ],
   "source": [
    "from src.models.dwiseneurossm import DwiseNeuroSSM\n",
    "argus_params = config[\"argus_params\"]\n",
    "device = torch.device(\"cuda\" if torch.cuda.is_available() else \"cpu\")\n",
    "\n",
    "ssm_model = DwiseNeuroSSM(**argus_params[\"nn_module\"][1])\n",
    "# ssm_model = ssm_model.to(device)\n",
    "total_params = sum(p.numel() for p in ssm_model.parameters() if p.requires_grad)\n",
    "print(total_params)\n",
    "\n",
    "\n",
    "from configs.true_batch_001 import config\n",
    "from src.models.dwiseneuro import DwiseNeuro\n",
    "argus_params = config[\"argus_params\"]\n",
    "device = torch.device(\"cuda\" if torch.cuda.is_available() else \"cpu\")\n",
    "\n",
    "original_model = DwiseNeuro(**argus_params[\"nn_module\"][1])\n",
    "# original_model = original_model.to(device)\n",
    "total_params = sum(p.numel() for p in original_model.parameters() if p.requires_grad)\n",
    "print(total_params)"
   ]
  },
  {
   "cell_type": "code",
   "execution_count": 4,
   "metadata": {},
   "outputs": [],
   "source": [
    "import pandas as pd\n",
    "ssm_parameters = []\n",
    "for name, param in ssm_model.named_parameters():\n",
    "    if param.requires_grad:\n",
    "        ssm_parameters.append({\n",
    "            \"name\" : name,\n",
    "            \"parameters\" : param.numel()\n",
    "        })\n",
    "ssm_parameters = pd.DataFrame(ssm_parameters)\n",
    "        \n",
    "original_parameters = []\n",
    "for name, param in original_model.named_parameters():\n",
    "    if param.requires_grad:\n",
    "        original_parameters.append({\n",
    "            \"name\" : name,\n",
    "            \"parameters\" : param.numel()\n",
    "        })\n",
    "original_parameters = pd.DataFrame(original_parameters)"
   ]
  },
  {
   "cell_type": "code",
   "execution_count": 5,
   "metadata": {},
   "outputs": [
    {
     "data": {
      "text/html": [
       "<div>\n",
       "<style scoped>\n",
       "    .dataframe tbody tr th:only-of-type {\n",
       "        vertical-align: middle;\n",
       "    }\n",
       "\n",
       "    .dataframe tbody tr th {\n",
       "        vertical-align: top;\n",
       "    }\n",
       "\n",
       "    .dataframe thead th {\n",
       "        text-align: right;\n",
       "    }\n",
       "</style>\n",
       "<table border=\"1\" class=\"dataframe\">\n",
       "  <thead>\n",
       "    <tr style=\"text-align: right;\">\n",
       "      <th></th>\n",
       "      <th>name</th>\n",
       "      <th>parameters</th>\n",
       "    </tr>\n",
       "  </thead>\n",
       "  <tbody>\n",
       "    <tr>\n",
       "      <th>171</th>\n",
       "      <td>readouts.7.layer.1.weight</td>\n",
       "      <td>8.485e+06</td>\n",
       "    </tr>\n",
       "    <tr>\n",
       "      <th>161</th>\n",
       "      <td>readouts.2.layer.1.weight</td>\n",
       "      <td>8.399e+06</td>\n",
       "    </tr>\n",
       "    <tr>\n",
       "      <th>150</th>\n",
       "      <td>ssm.mamba.in_proj.weight</td>\n",
       "      <td>8.389e+06</td>\n",
       "    </tr>\n",
       "    <tr>\n",
       "      <th>165</th>\n",
       "      <td>readouts.4.layer.1.weight</td>\n",
       "      <td>8.317e+06</td>\n",
       "    </tr>\n",
       "    <tr>\n",
       "      <th>163</th>\n",
       "      <td>readouts.3.layer.1.weight</td>\n",
       "      <td>8.131e+06</td>\n",
       "    </tr>\n",
       "    <tr>\n",
       "      <th>169</th>\n",
       "      <td>readouts.6.layer.1.weight</td>\n",
       "      <td>8.118e+06</td>\n",
       "    </tr>\n",
       "    <tr>\n",
       "      <th>159</th>\n",
       "      <td>readouts.1.layer.1.weight</td>\n",
       "      <td>8.098e+06</td>\n",
       "    </tr>\n",
       "    <tr>\n",
       "      <th>157</th>\n",
       "      <td>readouts.0.layer.1.weight</td>\n",
       "      <td>8.053e+06</td>\n",
       "    </tr>\n",
       "    <tr>\n",
       "      <th>173</th>\n",
       "      <td>readouts.8.layer.1.weight</td>\n",
       "      <td>7.856e+06</td>\n",
       "    </tr>\n",
       "    <tr>\n",
       "      <th>175</th>\n",
       "      <td>readouts.9.layer.1.weight</td>\n",
       "      <td>7.676e+06</td>\n",
       "    </tr>\n",
       "  </tbody>\n",
       "</table>\n",
       "</div>"
      ],
      "text/plain": [
       "                          name parameters\n",
       "171  readouts.7.layer.1.weight  8.485e+06\n",
       "161  readouts.2.layer.1.weight  8.399e+06\n",
       "150   ssm.mamba.in_proj.weight  8.389e+06\n",
       "165  readouts.4.layer.1.weight  8.317e+06\n",
       "163  readouts.3.layer.1.weight  8.131e+06\n",
       "169  readouts.6.layer.1.weight  8.118e+06\n",
       "159  readouts.1.layer.1.weight  8.098e+06\n",
       "157  readouts.0.layer.1.weight  8.053e+06\n",
       "173  readouts.8.layer.1.weight  7.856e+06\n",
       "175  readouts.9.layer.1.weight  7.676e+06"
      ]
     },
     "execution_count": 5,
     "metadata": {},
     "output_type": "execute_result"
    }
   ],
   "source": [
    "ssm_parameters.sort_values(\"parameters\", ascending=False)[:10].map(\n",
    "    lambda x: \"{:.3e}\".format(x) if isinstance(x, int) else x\n",
    ")"
   ]
  },
  {
   "cell_type": "code",
   "execution_count": 6,
   "metadata": {},
   "outputs": [
    {
     "data": {
      "text/html": [
       "<div>\n",
       "<style scoped>\n",
       "    .dataframe tbody tr th:only-of-type {\n",
       "        vertical-align: middle;\n",
       "    }\n",
       "\n",
       "    .dataframe tbody tr th {\n",
       "        vertical-align: top;\n",
       "    }\n",
       "\n",
       "    .dataframe thead th {\n",
       "        text-align: right;\n",
       "    }\n",
       "</style>\n",
       "<table border=\"1\" class=\"dataframe\">\n",
       "  <thead>\n",
       "    <tr style=\"text-align: right;\">\n",
       "      <th></th>\n",
       "      <th>name</th>\n",
       "      <th>parameters</th>\n",
       "    </tr>\n",
       "  </thead>\n",
       "  <tbody>\n",
       "    <tr>\n",
       "      <th>194</th>\n",
       "      <td>readouts.7.layer.1.weight</td>\n",
       "      <td>1.697e+07</td>\n",
       "    </tr>\n",
       "    <tr>\n",
       "      <th>184</th>\n",
       "      <td>readouts.2.layer.1.weight</td>\n",
       "      <td>1.680e+07</td>\n",
       "    </tr>\n",
       "    <tr>\n",
       "      <th>188</th>\n",
       "      <td>readouts.4.layer.1.weight</td>\n",
       "      <td>1.663e+07</td>\n",
       "    </tr>\n",
       "    <tr>\n",
       "      <th>186</th>\n",
       "      <td>readouts.3.layer.1.weight</td>\n",
       "      <td>1.626e+07</td>\n",
       "    </tr>\n",
       "    <tr>\n",
       "      <th>192</th>\n",
       "      <td>readouts.6.layer.1.weight</td>\n",
       "      <td>1.624e+07</td>\n",
       "    </tr>\n",
       "    <tr>\n",
       "      <th>182</th>\n",
       "      <td>readouts.1.layer.1.weight</td>\n",
       "      <td>1.620e+07</td>\n",
       "    </tr>\n",
       "    <tr>\n",
       "      <th>180</th>\n",
       "      <td>readouts.0.layer.1.weight</td>\n",
       "      <td>1.611e+07</td>\n",
       "    </tr>\n",
       "    <tr>\n",
       "      <th>196</th>\n",
       "      <td>readouts.8.layer.1.weight</td>\n",
       "      <td>1.571e+07</td>\n",
       "    </tr>\n",
       "    <tr>\n",
       "      <th>198</th>\n",
       "      <td>readouts.9.layer.1.weight</td>\n",
       "      <td>1.535e+07</td>\n",
       "    </tr>\n",
       "    <tr>\n",
       "      <th>190</th>\n",
       "      <td>readouts.5.layer.1.weight</td>\n",
       "      <td>1.524e+07</td>\n",
       "    </tr>\n",
       "  </tbody>\n",
       "</table>\n",
       "</div>"
      ],
      "text/plain": [
       "                          name parameters\n",
       "194  readouts.7.layer.1.weight  1.697e+07\n",
       "184  readouts.2.layer.1.weight  1.680e+07\n",
       "188  readouts.4.layer.1.weight  1.663e+07\n",
       "186  readouts.3.layer.1.weight  1.626e+07\n",
       "192  readouts.6.layer.1.weight  1.624e+07\n",
       "182  readouts.1.layer.1.weight  1.620e+07\n",
       "180  readouts.0.layer.1.weight  1.611e+07\n",
       "196  readouts.8.layer.1.weight  1.571e+07\n",
       "198  readouts.9.layer.1.weight  1.535e+07\n",
       "190  readouts.5.layer.1.weight  1.524e+07"
      ]
     },
     "execution_count": 6,
     "metadata": {},
     "output_type": "execute_result"
    }
   ],
   "source": [
    "original_parameters.sort_values(\"parameters\", ascending=False)[:10].map(\n",
    "    lambda x: \"{:.3e}\".format(x) if isinstance(x, int) else x\n",
    ")"
   ]
  },
  {
   "cell_type": "code",
   "execution_count": 13,
   "metadata": {},
   "outputs": [],
   "source": [
    "ssm_model = ssm_model.to(device)"
   ]
  },
  {
   "cell_type": "code",
   "execution_count": 19,
   "metadata": {},
   "outputs": [],
   "source": [
    "for batch in train_loader:\n",
    "    inputs, target = batch \n",
    "    inputs = inputs.to(device)\n",
    "    result = ssm_model(inputs)\n",
    "    break"
   ]
  },
  {
   "cell_type": "code",
   "execution_count": 20,
   "metadata": {},
   "outputs": [
    {
     "data": {
      "text/plain": [
       "[tensor([[[9.8888, 9.8773, 9.8656,  ..., 9.8309, 9.7707, 9.7993],\n",
       "          [9.9086, 9.9143, 9.9365,  ..., 9.8753, 9.8919, 9.9148],\n",
       "          [9.8520, 9.9104, 9.9163,  ..., 9.8907, 9.8658, 9.8979],\n",
       "          ...,\n",
       "          [9.8672, 9.8740, 9.9005,  ..., 9.9118, 9.9096, 9.9207],\n",
       "          [9.8854, 9.8962, 9.8714,  ..., 9.9130, 9.8745, 9.8727],\n",
       "          [9.8741, 9.9151, 9.8985,  ..., 9.9139, 9.9209, 9.9466]],\n",
       " \n",
       "         [[9.9005, 9.8773, 9.8888,  ..., 9.9008, 9.9050, 9.8912],\n",
       "          [9.8818, 9.8931, 9.8987,  ..., 9.9345, 9.9573, 9.9312],\n",
       "          [9.9185, 9.9160, 9.9299,  ..., 9.8902, 9.9105, 9.9268],\n",
       "          ...,\n",
       "          [9.8798, 9.8805, 9.8725,  ..., 9.9133, 9.8977, 9.8998],\n",
       "          [9.8816, 9.8801, 9.8733,  ..., 9.8970, 9.9071, 9.9219],\n",
       "          [9.9314, 9.9186, 9.9094,  ..., 9.9218, 9.9040, 9.8824]],\n",
       " \n",
       "         [[9.9094, 9.8975, 9.8466,  ..., 9.8818, 9.8735, 9.8652],\n",
       "          [9.8767, 9.9095, 9.8965,  ..., 9.9102, 9.9324, 9.9501],\n",
       "          [9.9328, 9.9153, 9.9372,  ..., 9.9017, 9.9200, 9.9258],\n",
       "          ...,\n",
       "          [9.8706, 9.9130, 9.9078,  ..., 9.8989, 9.9107, 9.9230],\n",
       "          [9.8686, 9.8807, 9.9059,  ..., 9.8994, 9.8965, 9.9261],\n",
       "          [9.9295, 9.9197, 9.9035,  ..., 9.9085, 9.9245, 9.9024]],\n",
       " \n",
       "         ...,\n",
       " \n",
       "         [[9.8989, 9.9064, 9.9219,  ..., 9.9298, 9.9455, 9.9234],\n",
       "          [9.8902, 9.8843, 9.8958,  ..., 9.9055, 9.9084, 9.9120],\n",
       "          [9.8875, 9.8837, 9.9018,  ..., 9.9161, 9.8962, 9.8675],\n",
       "          ...,\n",
       "          [9.8597, 9.8802, 9.8943,  ..., 9.8898, 9.8817, 9.8764],\n",
       "          [9.8977, 9.8863, 9.8842,  ..., 9.8907, 9.9080, 9.9161],\n",
       "          [9.9508, 9.9450, 9.9253,  ..., 9.8876, 9.8641, 9.8450]],\n",
       " \n",
       "         [[9.9546, 9.9447, 9.9171,  ..., 9.8994, 9.8985, 9.8788],\n",
       "          [9.8719, 9.9483, 9.9316,  ..., 9.9144, 9.9132, 9.9352],\n",
       "          [9.8753, 9.8951, 9.8747,  ..., 9.9063, 9.9031, 9.8987],\n",
       "          ...,\n",
       "          [9.8637, 9.8859, 9.8836,  ..., 9.8798, 9.8939, 9.9051],\n",
       "          [9.8679, 9.8555, 9.8906,  ..., 9.8884, 9.9074, 9.9118],\n",
       "          [9.9311, 9.9145, 9.9013,  ..., 9.9283, 9.9238, 9.9226]],\n",
       " \n",
       "         [[9.9184, 9.8910, 9.8870,  ..., 9.8953, 9.8883, 9.9028],\n",
       "          [9.8885, 9.8834, 9.9100,  ..., 9.9053, 9.9294, 9.9430],\n",
       "          [9.9254, 9.9172, 9.9284,  ..., 9.8750, 9.9063, 9.9232],\n",
       "          ...,\n",
       "          [9.9003, 9.9060, 9.8994,  ..., 9.9140, 9.8967, 9.8752],\n",
       "          [9.8665, 9.8696, 9.8619,  ..., 9.8799, 9.8856, 9.8615],\n",
       "          [9.9192, 9.9181, 9.9153,  ..., 9.8947, 9.9106, 9.9170]]],\n",
       "        device='cuda:0', grad_fn=<SoftplusBackward0>),\n",
       " tensor([[[ 9.9192,  9.8983,  9.8880,  ...,  9.8872,  9.8741,  9.8633],\n",
       "          [ 9.9798,  9.9339,  9.9259,  ...,  9.9134,  9.8992,  9.9157],\n",
       "          [10.0004,  9.9813,  9.9789,  ...,  9.8985,  9.9164,  9.9579],\n",
       "          ...,\n",
       "          [ 9.9370,  9.8976,  9.8706,  ...,  9.9397,  9.9526,  9.9200],\n",
       "          [ 9.9853,  9.9993,  9.9721,  ...,  9.9460,  9.8850,  9.8232],\n",
       "          [ 9.8937,  9.9251,  9.9276,  ...,  9.8818,  9.9173,  9.9420]],\n",
       " \n",
       "         [[ 9.9147,  9.9147,  9.9121,  ...,  9.9075,  9.9256,  9.9206],\n",
       "          [ 9.9169,  9.9049,  9.9062,  ...,  9.9010,  9.8726,  9.8868],\n",
       "          [ 9.9289,  9.9098,  9.9099,  ...,  9.9264,  9.9437,  9.9287],\n",
       "          ...,\n",
       "          [ 9.9199,  9.8936,  9.8809,  ...,  9.9153,  9.9240,  9.9327],\n",
       "          [ 9.9271,  9.9232,  9.9236,  ...,  9.9029,  9.8849,  9.8927],\n",
       "          [ 9.8991,  9.9054,  9.8895,  ...,  9.9241,  9.9239,  9.9014]],\n",
       " \n",
       "         [[ 9.9323,  9.9420,  9.9212,  ...,  9.9153,  9.8926,  9.8979],\n",
       "          [ 9.9234,  9.9256,  9.8973,  ...,  9.9066,  9.9111,  9.9099],\n",
       "          [ 9.9165,  9.8960,  9.8848,  ...,  9.9202,  9.9347,  9.9344],\n",
       "          ...,\n",
       "          [ 9.9123,  9.9037,  9.8910,  ...,  9.8948,  9.9116,  9.9132],\n",
       "          [ 9.9021,  9.9087,  9.8766,  ...,  9.9068,  9.9289,  9.9039],\n",
       "          [ 9.9071,  9.8820,  9.9020,  ...,  9.9016,  9.8970,  9.8724]],\n",
       " \n",
       "         ...,\n",
       " \n",
       "         [[ 9.8826,  9.8866,  9.8910,  ...,  9.9082,  9.9105,  9.9314],\n",
       "          [ 9.9239,  9.9005,  9.9038,  ...,  9.9126,  9.9157,  9.9288],\n",
       "          [ 9.9374,  9.9247,  9.9216,  ...,  9.9445,  9.9609,  9.9833],\n",
       "          ...,\n",
       "          [ 9.8817,  9.8983,  9.9146,  ...,  9.8926,  9.8949,  9.9157],\n",
       "          [ 9.8961,  9.9099,  9.9062,  ...,  9.8994,  9.9017,  9.9139],\n",
       "          [ 9.8761,  9.8827,  9.8831,  ...,  9.8814,  9.8982,  9.9011]],\n",
       " \n",
       "         [[ 9.8960,  9.9159,  9.9164,  ...,  9.9169,  9.9183,  9.9058],\n",
       "          [ 9.9386,  9.9146,  9.8833,  ...,  9.8788,  9.8829,  9.8887],\n",
       "          [ 9.9360,  9.9226,  9.9060,  ...,  9.9226,  9.9235,  9.9256],\n",
       "          ...,\n",
       "          [ 9.9427,  9.9034,  9.8907,  ...,  9.8847,  9.8965,  9.9078],\n",
       "          [ 9.9406,  9.9032,  9.9351,  ...,  9.8980,  9.8921,  9.8833],\n",
       "          [ 9.8874,  9.9013,  9.8781,  ...,  9.8970,  9.9058,  9.8999]],\n",
       " \n",
       "         [[ 9.9118,  9.9093,  9.8987,  ...,  9.9010,  9.9270,  9.9370],\n",
       "          [ 9.9303,  9.9046,  9.8883,  ...,  9.9153,  9.8949,  9.9166],\n",
       "          [ 9.9305,  9.9370,  9.9442,  ...,  9.8969,  9.9295,  9.9363],\n",
       "          ...,\n",
       "          [ 9.9172,  9.9023,  9.8919,  ...,  9.9065,  9.9087,  9.8838],\n",
       "          [ 9.9148,  9.9250,  9.9084,  ...,  9.9071,  9.8938,  9.9396],\n",
       "          [ 9.9039,  9.8967,  9.9154,  ...,  9.8879,  9.9068,  9.9319]]],\n",
       "        device='cuda:0', grad_fn=<SoftplusBackward0>),\n",
       " tensor([[[9.9439, 9.8959, 9.8901,  ..., 9.9367, 9.8791, 9.8851],\n",
       "          [9.8812, 9.8959, 9.8854,  ..., 9.9166, 9.9062, 9.8857],\n",
       "          [9.9945, 9.9088, 9.9466,  ..., 9.8420, 9.8551, 9.9254],\n",
       "          ...,\n",
       "          [9.8817, 9.8985, 9.9501,  ..., 9.8820, 9.8631, 9.8987],\n",
       "          [9.9472, 9.9113, 9.9364,  ..., 9.8488, 9.8833, 9.9418],\n",
       "          [9.8985, 9.8593, 9.8668,  ..., 9.8757, 9.8994, 9.8717]],\n",
       " \n",
       "         [[9.8753, 9.8757, 9.8995,  ..., 9.9142, 9.9262, 9.9123],\n",
       "          [9.8841, 9.8994, 9.9093,  ..., 9.8887, 9.9021, 9.9146],\n",
       "          [9.9169, 9.9031, 9.9288,  ..., 9.9087, 9.9170, 9.9175],\n",
       "          ...,\n",
       "          [9.9257, 9.9240, 9.9397,  ..., 9.9522, 9.9466, 9.9398],\n",
       "          [9.9096, 9.9100, 9.9225,  ..., 9.8743, 9.8787, 9.8986],\n",
       "          [9.8734, 9.8564, 9.8155,  ..., 9.8624, 9.8641, 9.8884]],\n",
       " \n",
       "         [[9.8845, 9.8615, 9.8772,  ..., 9.9219, 9.8763, 9.8901],\n",
       "          [9.9004, 9.9099, 9.9047,  ..., 9.8763, 9.8556, 9.8483],\n",
       "          [9.9259, 9.9109, 9.9049,  ..., 9.9280, 9.9180, 9.9233],\n",
       "          ...,\n",
       "          [9.9295, 9.9001, 9.9075,  ..., 9.9019, 9.9329, 9.9275],\n",
       "          [9.9319, 9.9616, 9.9745,  ..., 9.9088, 9.9074, 9.9273],\n",
       "          [9.9043, 9.8894, 9.8883,  ..., 9.8657, 9.8656, 9.8940]],\n",
       " \n",
       "         ...,\n",
       " \n",
       "         [[9.8928, 9.8871, 9.8942,  ..., 9.9312, 9.9422, 9.9358],\n",
       "          [9.9084, 9.9033, 9.9082,  ..., 9.9047, 9.8871, 9.8758],\n",
       "          [9.9083, 9.8870, 9.8887,  ..., 9.9029, 9.9135, 9.9394],\n",
       "          ...,\n",
       "          [9.9230, 9.9080, 9.8807,  ..., 9.9092, 9.9267, 9.9123],\n",
       "          [9.9063, 9.8736, 9.8670,  ..., 9.8846, 9.8683, 9.8569],\n",
       "          [9.8627, 9.8455, 9.8441,  ..., 9.8877, 9.8685, 9.8825]],\n",
       " \n",
       "         [[9.8870, 9.8776, 9.8845,  ..., 9.8943, 9.8944, 9.8823],\n",
       "          [9.9117, 9.9041, 9.8730,  ..., 9.8858, 9.8912, 9.8995],\n",
       "          [9.9519, 9.9264, 9.9045,  ..., 9.9078, 9.9025, 9.9045],\n",
       "          ...,\n",
       "          [9.8859, 9.9086, 9.9456,  ..., 9.9177, 9.9253, 9.9326],\n",
       "          [9.9685, 9.9072, 9.8774,  ..., 9.8846, 9.8760, 9.8585],\n",
       "          [9.8716, 9.8763, 9.8765,  ..., 9.8878, 9.8809, 9.8847]],\n",
       " \n",
       "         [[9.8977, 9.8813, 9.8782,  ..., 9.9060, 9.9197, 9.9247],\n",
       "          [9.9057, 9.9075, 9.9100,  ..., 9.8680, 9.8506, 9.8691],\n",
       "          [9.9211, 9.8920, 9.8931,  ..., 9.9229, 9.9223, 9.9222],\n",
       "          ...,\n",
       "          [9.9064, 9.9042, 9.9101,  ..., 9.9319, 9.9166, 9.8982],\n",
       "          [9.9188, 9.9174, 9.9193,  ..., 9.8974, 9.8870, 9.8890],\n",
       "          [9.8807, 9.8772, 9.8619,  ..., 9.8991, 9.8872, 9.9066]]],\n",
       "        device='cuda:0', grad_fn=<SoftplusBackward0>),\n",
       " tensor([[[ 9.8762,  9.8947,  9.9023,  ...,  9.8873,  9.8666,  9.8917],\n",
       "          [ 9.9609,  9.9262,  9.8901,  ...,  9.8979,  9.9031,  9.9345],\n",
       "          [ 9.8536,  9.9070,  9.9298,  ...,  9.8706,  9.8581,  9.8078],\n",
       "          ...,\n",
       "          [ 9.8453,  9.9374, 10.0152,  ...,  9.8989,  9.9293,  9.9676],\n",
       "          [ 9.9056,  9.9252, 10.0072,  ...,  9.8836,  9.8973,  9.8615],\n",
       "          [ 9.8488,  9.8153,  9.8184,  ...,  9.8594,  9.7872,  9.7967]],\n",
       " \n",
       "         [[ 9.9067,  9.9057,  9.9044,  ...,  9.9013,  9.8888,  9.8937],\n",
       "          [ 9.9024,  9.8843,  9.8598,  ...,  9.8806,  9.8823,  9.8843],\n",
       "          [ 9.9027,  9.8968,  9.9066,  ...,  9.9069,  9.9262,  9.9330],\n",
       "          ...,\n",
       "          [ 9.8670,  9.8916,  9.8999,  ...,  9.9066,  9.8958,  9.8862],\n",
       "          [ 9.9113,  9.9106,  9.8918,  ...,  9.8971,  9.8870,  9.8780],\n",
       "          [ 9.8970,  9.9032,  9.9311,  ...,  9.9118,  9.9124,  9.8967]],\n",
       " \n",
       "         [[ 9.9004,  9.8945,  9.8715,  ...,  9.9073,  9.9148,  9.9289],\n",
       "          [ 9.8717,  9.8777,  9.8870,  ...,  9.9050,  9.8993,  9.8759],\n",
       "          [ 9.9128,  9.9217,  9.9122,  ...,  9.8878,  9.9070,  9.9288],\n",
       "          ...,\n",
       "          [ 9.8826,  9.8964,  9.9483,  ...,  9.8908,  9.9057,  9.8906],\n",
       "          [ 9.9085,  9.8914,  9.8985,  ...,  9.8771,  9.8977,  9.8909],\n",
       "          [ 9.9089,  9.9040,  9.9065,  ...,  9.9081,  9.8873,  9.8921]],\n",
       " \n",
       "         ...,\n",
       " \n",
       "         [[ 9.9128,  9.9140,  9.9290,  ...,  9.9155,  9.9041,  9.9107],\n",
       "          [ 9.8860,  9.8554,  9.8495,  ...,  9.8658,  9.8401,  9.8285],\n",
       "          [ 9.8763,  9.8789,  9.8820,  ...,  9.8896,  9.9049,  9.9193],\n",
       "          ...,\n",
       "          [ 9.8714,  9.9088,  9.9096,  ...,  9.9299,  9.9226,  9.9044],\n",
       "          [ 9.8955,  9.9034,  9.9210,  ...,  9.9161,  9.9132,  9.9001],\n",
       "          [ 9.9268,  9.9157,  9.9094,  ...,  9.9163,  9.8912,  9.8547]],\n",
       " \n",
       "         [[ 9.8656,  9.9048,  9.9132,  ...,  9.8876,  9.9087,  9.9325],\n",
       "          [ 9.8846,  9.8994,  9.8985,  ...,  9.8902,  9.8807,  9.8936],\n",
       "          [ 9.9068,  9.9258,  9.9161,  ...,  9.9088,  9.9108,  9.9213],\n",
       "          ...,\n",
       "          [ 9.9310,  9.9137,  9.9008,  ...,  9.9121,  9.9128,  9.9044],\n",
       "          [ 9.9177,  9.9006,  9.8722,  ...,  9.8968,  9.8862,  9.8785],\n",
       "          [ 9.9381,  9.9592,  9.9111,  ...,  9.9120,  9.9069,  9.9018]],\n",
       " \n",
       "         [[ 9.9168,  9.9045,  9.8731,  ...,  9.8987,  9.9007,  9.8999],\n",
       "          [ 9.8836,  9.8979,  9.8830,  ...,  9.9114,  9.9126,  9.9005],\n",
       "          [ 9.9009,  9.9142,  9.9082,  ...,  9.9262,  9.9188,  9.8937],\n",
       "          ...,\n",
       "          [ 9.8790,  9.9077,  9.9164,  ...,  9.9206,  9.9155,  9.9230],\n",
       "          [ 9.9171,  9.9300,  9.9368,  ...,  9.8656,  9.8863,  9.8780],\n",
       "          [ 9.9033,  9.9052,  9.9362,  ...,  9.9028,  9.8890,  9.8692]]],\n",
       "        device='cuda:0', grad_fn=<SoftplusBackward0>),\n",
       " tensor([[[9.8315, 9.9042, 9.9113,  ..., 9.8771, 9.8902, 9.9131],\n",
       "          [9.8779, 9.8890, 9.9059,  ..., 9.8612, 9.8249, 9.8159],\n",
       "          [9.9380, 9.9300, 9.8433,  ..., 9.9300, 9.9350, 9.9221],\n",
       "          ...,\n",
       "          [9.9294, 9.9450, 9.9646,  ..., 9.8880, 9.8995, 9.9142],\n",
       "          [9.9442, 9.8838, 9.9367,  ..., 9.9479, 9.9331, 9.9753],\n",
       "          [9.8426, 9.8755, 9.8561,  ..., 9.8455, 9.8183, 9.7854]],\n",
       " \n",
       "         [[9.8989, 9.8873, 9.8701,  ..., 9.8882, 9.8852, 9.8844],\n",
       "          [9.9072, 9.9163, 9.9299,  ..., 9.8935, 9.8834, 9.8763],\n",
       "          [9.9360, 9.9081, 9.9061,  ..., 9.8921, 9.8835, 9.9051],\n",
       "          ...,\n",
       "          [9.9234, 9.9046, 9.8973,  ..., 9.8977, 9.9106, 9.8936],\n",
       "          [9.9228, 9.9366, 9.9547,  ..., 9.9038, 9.8933, 9.9038],\n",
       "          [9.8988, 9.9099, 9.9149,  ..., 9.8947, 9.9013, 9.8806]],\n",
       " \n",
       "         [[9.9123, 9.8798, 9.8651,  ..., 9.9025, 9.8884, 9.8688],\n",
       "          [9.8919, 9.9027, 9.9036,  ..., 9.8915, 9.8981, 9.9003],\n",
       "          [9.9400, 9.9227, 9.9268,  ..., 9.9170, 9.8905, 9.8613],\n",
       "          ...,\n",
       "          [9.8917, 9.9030, 9.9006,  ..., 9.9080, 9.8956, 9.8987],\n",
       "          [9.9319, 9.9507, 9.9372,  ..., 9.8976, 9.8967, 9.9249],\n",
       "          [9.8901, 9.8985, 9.9146,  ..., 9.8778, 9.8862, 9.8930]],\n",
       " \n",
       "         ...,\n",
       " \n",
       "         [[9.8869, 9.9012, 9.8875,  ..., 9.8782, 9.8608, 9.8461],\n",
       "          [9.9038, 9.9151, 9.9214,  ..., 9.8975, 9.9084, 9.8912],\n",
       "          [9.9403, 9.9458, 9.9237,  ..., 9.9002, 9.8843, 9.8658],\n",
       "          ...,\n",
       "          [9.9134, 9.8738, 9.8597,  ..., 9.8769, 9.8762, 9.8543],\n",
       "          [9.9103, 9.9277, 9.8969,  ..., 9.8988, 9.8853, 9.8936],\n",
       "          [9.8593, 9.8683, 9.8882,  ..., 9.9049, 9.9090, 9.8848]],\n",
       " \n",
       "         [[9.8783, 9.8906, 9.9013,  ..., 9.8726, 9.8810, 9.8938],\n",
       "          [9.8569, 9.9123, 9.9118,  ..., 9.9025, 9.8962, 9.8904],\n",
       "          [9.9158, 9.9509, 9.9189,  ..., 9.8866, 9.8844, 9.8880],\n",
       "          ...,\n",
       "          [9.8747, 9.8922, 9.9132,  ..., 9.8784, 9.8860, 9.8757],\n",
       "          [9.9140, 9.9186, 9.9025,  ..., 9.9050, 9.9136, 9.9114],\n",
       "          [9.8752, 9.8731, 9.8656,  ..., 9.9086, 9.9012, 9.8903]],\n",
       " \n",
       "         [[9.9281, 9.9068, 9.8888,  ..., 9.8758, 9.8608, 9.8899],\n",
       "          [9.9015, 9.9175, 9.9083,  ..., 9.8830, 9.8708, 9.9025],\n",
       "          [9.9098, 9.9148, 9.9157,  ..., 9.8922, 9.8923, 9.9004],\n",
       "          ...,\n",
       "          [9.9104, 9.8922, 9.8760,  ..., 9.9065, 9.9008, 9.8935],\n",
       "          [9.9473, 9.9264, 9.9377,  ..., 9.9184, 9.9082, 9.9201],\n",
       "          [9.8785, 9.8839, 9.8621,  ..., 9.9159, 9.9165, 9.9053]]],\n",
       "        device='cuda:0', grad_fn=<SoftplusBackward0>),\n",
       " tensor([[[10.0073,  9.9452,  9.9282,  ...,  9.9570,  9.9784,  9.9591],\n",
       "          [ 9.8769,  9.8811,  9.8600,  ...,  9.8941,  9.9021,  9.9158],\n",
       "          [ 9.8468,  9.8737,  9.8515,  ...,  9.9062,  9.8711,  9.8267],\n",
       "          ...,\n",
       "          [ 9.8938,  9.9191,  9.9191,  ...,  9.9393,  9.9419,  9.9846],\n",
       "          [ 9.8932,  9.8841,  9.8448,  ...,  9.9743,  9.9529,  9.9034],\n",
       "          [ 9.9597,  9.9890,  9.9352,  ...,  9.9413,  9.9900,  9.9890]],\n",
       " \n",
       "         [[ 9.9306,  9.9374,  9.9109,  ...,  9.9188,  9.9218,  9.9162],\n",
       "          [ 9.9557,  9.9426,  9.9231,  ...,  9.9396,  9.9427,  9.9556],\n",
       "          [ 9.8942,  9.8945,  9.8885,  ...,  9.8819,  9.8845,  9.8704],\n",
       "          ...,\n",
       "          [ 9.9185,  9.9247,  9.9272,  ...,  9.9043,  9.9054,  9.9161],\n",
       "          [ 9.8800,  9.8651,  9.8715,  ...,  9.8934,  9.9184,  9.9119],\n",
       "          [ 9.8990,  9.9196,  9.9340,  ...,  9.9253,  9.9225,  9.9206]],\n",
       " \n",
       "         [[ 9.9557,  9.9498,  9.9476,  ...,  9.9259,  9.9279,  9.9215],\n",
       "          [ 9.9123,  9.9005,  9.8866,  ...,  9.9316,  9.9492,  9.9446],\n",
       "          [ 9.9011,  9.8828,  9.8702,  ...,  9.8859,  9.8669,  9.8550],\n",
       "          ...,\n",
       "          [ 9.9216,  9.9297,  9.9263,  ...,  9.9209,  9.9250,  9.9425],\n",
       "          [ 9.8795,  9.8636,  9.8652,  ...,  9.9368,  9.9220,  9.9130],\n",
       "          [ 9.9291,  9.9501,  9.9684,  ...,  9.8944,  9.9314,  9.9566]],\n",
       " \n",
       "         ...,\n",
       " \n",
       "         [[ 9.9183,  9.9273,  9.9264,  ...,  9.9326,  9.9445,  9.9350],\n",
       "          [ 9.8836,  9.8979,  9.9131,  ...,  9.9398,  9.9298,  9.9035],\n",
       "          [ 9.8934,  9.8982,  9.9091,  ...,  9.9049,  9.9049,  9.9005],\n",
       "          ...,\n",
       "          [ 9.9069,  9.9303,  9.9341,  ...,  9.9294,  9.9392,  9.9465],\n",
       "          [ 9.8641,  9.8515,  9.8880,  ...,  9.8995,  9.8776,  9.8591],\n",
       "          [ 9.9044,  9.9196,  9.9078,  ...,  9.9101,  9.9299,  9.9404]],\n",
       " \n",
       "         [[ 9.9510,  9.9158,  9.8871,  ...,  9.9360,  9.9322,  9.9388],\n",
       "          [ 9.8953,  9.9048,  9.8995,  ...,  9.9238,  9.9252,  9.9112],\n",
       "          [ 9.8743,  9.8884,  9.8675,  ...,  9.8699,  9.8670,  9.8910],\n",
       "          ...,\n",
       "          [ 9.8922,  9.9216,  9.9098,  ...,  9.9121,  9.9229,  9.9179],\n",
       "          [ 9.8955,  9.9051,  9.8674,  ...,  9.8898,  9.8962,  9.8744],\n",
       "          [ 9.9507,  9.9441,  9.9335,  ...,  9.9216,  9.9279,  9.9219]],\n",
       " \n",
       "         [[ 9.9711,  9.9512,  9.9458,  ...,  9.9135,  9.9091,  9.9081],\n",
       "          [ 9.8819,  9.8746,  9.9098,  ...,  9.9193,  9.9101,  9.8895],\n",
       "          [ 9.8808,  9.8802,  9.8739,  ...,  9.8838,  9.8814,  9.8628],\n",
       "          ...,\n",
       "          [ 9.9123,  9.9247,  9.9291,  ...,  9.8924,  9.9180,  9.9362],\n",
       "          [ 9.8894,  9.8860,  9.8738,  ...,  9.9026,  9.9078,  9.9033],\n",
       "          [ 9.9176,  9.9236,  9.9169,  ...,  9.9231,  9.9273,  9.9080]]],\n",
       "        device='cuda:0', grad_fn=<SoftplusBackward0>),\n",
       " tensor([[[9.8980, 9.8863, 9.8644,  ..., 9.8668, 9.8134, 9.7691],\n",
       "          [9.8917, 9.8976, 9.9047,  ..., 9.8881, 9.9374, 9.9465],\n",
       "          [9.8716, 9.8839, 9.9093,  ..., 9.8958, 9.8781, 9.8763],\n",
       "          ...,\n",
       "          [9.8773, 9.8620, 9.8837,  ..., 9.8551, 9.8895, 9.8718],\n",
       "          [9.8889, 9.9114, 9.9123,  ..., 9.8924, 9.9072, 9.9463],\n",
       "          [9.8773, 9.8840, 9.8629,  ..., 9.9038, 9.9132, 9.9041]],\n",
       " \n",
       "         [[9.9055, 9.8920, 9.8821,  ..., 9.9243, 9.9276, 9.9264],\n",
       "          [9.8844, 9.8736, 9.8919,  ..., 9.8917, 9.9204, 9.9331],\n",
       "          [9.9217, 9.8973, 9.8888,  ..., 9.9047, 9.8941, 9.8956],\n",
       "          ...,\n",
       "          [9.8861, 9.9075, 9.9018,  ..., 9.9175, 9.9018, 9.8963],\n",
       "          [9.8712, 9.8888, 9.8815,  ..., 9.8984, 9.9045, 9.9102],\n",
       "          [9.8824, 9.8812, 9.8829,  ..., 9.9150, 9.9090, 9.9085]],\n",
       " \n",
       "         [[9.8945, 9.8729, 9.9028,  ..., 9.8925, 9.8986, 9.8995],\n",
       "          [9.8916, 9.8805, 9.8677,  ..., 9.8709, 9.8755, 9.8947],\n",
       "          [9.8805, 9.9063, 9.9085,  ..., 9.9014, 9.8747, 9.8931],\n",
       "          ...,\n",
       "          [9.8849, 9.8838, 9.8640,  ..., 9.9246, 9.9209, 9.9036],\n",
       "          [9.8966, 9.8755, 9.8887,  ..., 9.8935, 9.8749, 9.8704],\n",
       "          [9.8959, 9.8617, 9.8263,  ..., 9.8914, 9.8942, 9.8959]],\n",
       " \n",
       "         ...,\n",
       " \n",
       "         [[9.8879, 9.8892, 9.8765,  ..., 9.9075, 9.9122, 9.9401],\n",
       "          [9.8999, 9.8634, 9.8708,  ..., 9.9191, 9.9315, 9.9428],\n",
       "          [9.9197, 9.8971, 9.8859,  ..., 9.9072, 9.9068, 9.8893],\n",
       "          ...,\n",
       "          [9.8927, 9.8863, 9.8822,  ..., 9.9238, 9.9114, 9.9122],\n",
       "          [9.8871, 9.9107, 9.9144,  ..., 9.8933, 9.9033, 9.8903],\n",
       "          [9.8721, 9.8701, 9.8697,  ..., 9.8949, 9.8945, 9.9006]],\n",
       " \n",
       "         [[9.9324, 9.9083, 9.8886,  ..., 9.8912, 9.8939, 9.8973],\n",
       "          [9.8787, 9.9062, 9.8864,  ..., 9.9012, 9.9026, 9.8990],\n",
       "          [9.9254, 9.9128, 9.9071,  ..., 9.8977, 9.8899, 9.8775],\n",
       "          ...,\n",
       "          [9.8753, 9.8814, 9.9080,  ..., 9.9275, 9.9074, 9.8913],\n",
       "          [9.9042, 9.9474, 9.9061,  ..., 9.8910, 9.8934, 9.9109],\n",
       "          [9.8860, 9.9210, 9.9118,  ..., 9.8947, 9.8929, 9.9026]],\n",
       " \n",
       "         [[9.8790, 9.8627, 9.8770,  ..., 9.8941, 9.9071, 9.9059],\n",
       "          [9.8986, 9.9126, 9.9237,  ..., 9.9129, 9.9191, 9.9426],\n",
       "          [9.9267, 9.9101, 9.9011,  ..., 9.9080, 9.9063, 9.8908],\n",
       "          ...,\n",
       "          [9.8939, 9.9001, 9.9142,  ..., 9.9188, 9.9083, 9.8815],\n",
       "          [9.8807, 9.8820, 9.8792,  ..., 9.8646, 9.8773, 9.8821],\n",
       "          [9.8832, 9.8812, 9.8834,  ..., 9.8740, 9.8717, 9.8846]]],\n",
       "        device='cuda:0', grad_fn=<SoftplusBackward0>),\n",
       " tensor([[[9.9398, 9.9116, 9.8694,  ..., 9.9423, 9.9232, 9.9420],\n",
       "          [9.8927, 9.9081, 9.9159,  ..., 9.9143, 9.9438, 9.9271],\n",
       "          [9.8736, 9.9032, 9.8864,  ..., 9.8473, 9.8273, 9.8049],\n",
       "          ...,\n",
       "          [9.9815, 9.9350, 9.9101,  ..., 9.8647, 9.8432, 9.8995],\n",
       "          [9.9368, 9.9156, 9.8961,  ..., 9.9405, 9.8955, 9.8404],\n",
       "          [9.8860, 9.9069, 9.8837,  ..., 9.9171, 9.9140, 9.9047]],\n",
       " \n",
       "         [[9.9291, 9.9244, 9.9451,  ..., 9.9144, 9.9098, 9.9073],\n",
       "          [9.8886, 9.9163, 9.9232,  ..., 9.9094, 9.9043, 9.9034],\n",
       "          [9.8915, 9.8989, 9.8984,  ..., 9.8811, 9.8936, 9.8778],\n",
       "          ...,\n",
       "          [9.9424, 9.9233, 9.9039,  ..., 9.8918, 9.8852, 9.8863],\n",
       "          [9.9016, 9.9007, 9.8840,  ..., 9.8880, 9.8905, 9.9012],\n",
       "          [9.9004, 9.8853, 9.9145,  ..., 9.8745, 9.8630, 9.8759]],\n",
       " \n",
       "         [[9.9208, 9.9468, 9.9404,  ..., 9.8942, 9.8851, 9.9019],\n",
       "          [9.9084, 9.9518, 9.9431,  ..., 9.9309, 9.9382, 9.8961],\n",
       "          [9.9064, 9.8856, 9.9126,  ..., 9.9027, 9.8987, 9.8839],\n",
       "          ...,\n",
       "          [9.9636, 9.9458, 9.9452,  ..., 9.8915, 9.8892, 9.8883],\n",
       "          [9.9026, 9.9122, 9.8912,  ..., 9.9104, 9.8869, 9.8985],\n",
       "          [9.8958, 9.8935, 9.8771,  ..., 9.9012, 9.8914, 9.9078]],\n",
       " \n",
       "         ...,\n",
       " \n",
       "         [[9.9228, 9.9137, 9.9130,  ..., 9.9378, 9.9141, 9.9109],\n",
       "          [9.9313, 9.9496, 9.9585,  ..., 9.8841, 9.8809, 9.8788],\n",
       "          [9.8845, 9.8929, 9.9038,  ..., 9.9026, 9.9214, 9.9183],\n",
       "          ...,\n",
       "          [9.9582, 9.9384, 9.9086,  ..., 9.9246, 9.9165, 9.9169],\n",
       "          [9.9177, 9.8893, 9.8571,  ..., 9.8757, 9.8950, 9.8897],\n",
       "          [9.8943, 9.9090, 9.8863,  ..., 9.8933, 9.9041, 9.8914]],\n",
       " \n",
       "         [[9.8925, 9.9147, 9.9042,  ..., 9.9239, 9.9287, 9.9251],\n",
       "          [9.9211, 9.9272, 9.9314,  ..., 9.9024, 9.9079, 9.9128],\n",
       "          [9.9068, 9.8969, 9.8977,  ..., 9.8953, 9.8984, 9.8939],\n",
       "          ...,\n",
       "          [9.9362, 9.9124, 9.9229,  ..., 9.9142, 9.9019, 9.8968],\n",
       "          [9.8848, 9.9158, 9.9114,  ..., 9.8931, 9.8864, 9.8919],\n",
       "          [9.8742, 9.9228, 9.9037,  ..., 9.8968, 9.9071, 9.9043]],\n",
       " \n",
       "         [[9.8944, 9.9107, 9.9422,  ..., 9.9075, 9.9090, 9.9367],\n",
       "          [9.9111, 9.9279, 9.9353,  ..., 9.9263, 9.9272, 9.9315],\n",
       "          [9.8994, 9.8811, 9.8713,  ..., 9.9128, 9.9098, 9.8793],\n",
       "          ...,\n",
       "          [9.9546, 9.9267, 9.8972,  ..., 9.8918, 9.8918, 9.9048],\n",
       "          [9.9193, 9.9041, 9.8937,  ..., 9.9206, 9.9320, 9.9116],\n",
       "          [9.8833, 9.8827, 9.8961,  ..., 9.8808, 9.8825, 9.8860]]],\n",
       "        device='cuda:0', grad_fn=<SoftplusBackward0>),\n",
       " tensor([[[9.8785, 9.9315, 9.9837,  ..., 9.9548, 9.9819, 9.9458],\n",
       "          [9.9002, 9.9103, 9.9277,  ..., 9.8962, 9.8550, 9.8795],\n",
       "          [9.8594, 9.8751, 9.9169,  ..., 9.8833, 9.8884, 9.8722],\n",
       "          ...,\n",
       "          [9.9265, 9.9222, 9.9172,  ..., 9.9141, 9.8962, 9.9195],\n",
       "          [9.8334, 9.9003, 9.8127,  ..., 9.9490, 9.8972, 9.8232],\n",
       "          [9.9680, 9.9134, 9.9170,  ..., 9.9372, 9.9097, 9.9161]],\n",
       " \n",
       "         [[9.8945, 9.9091, 9.9294,  ..., 9.9291, 9.9155, 9.9105],\n",
       "          [9.8987, 9.8994, 9.8903,  ..., 9.9327, 9.9279, 9.9365],\n",
       "          [9.9478, 9.9270, 9.9129,  ..., 9.9258, 9.9083, 9.9025],\n",
       "          ...,\n",
       "          [9.8994, 9.9097, 9.8959,  ..., 9.9039, 9.8849, 9.8829],\n",
       "          [9.9141, 9.9189, 9.9172,  ..., 9.9352, 9.9053, 9.8818],\n",
       "          [9.8808, 9.9034, 9.9213,  ..., 9.9364, 9.9320, 9.9122]],\n",
       " \n",
       "         [[9.9150, 9.9127, 9.9311,  ..., 9.8863, 9.9198, 9.9101],\n",
       "          [9.9099, 9.8739, 9.8494,  ..., 9.8909, 9.9099, 9.9332],\n",
       "          [9.9410, 9.8973, 9.8968,  ..., 9.9402, 9.8950, 9.8947],\n",
       "          ...,\n",
       "          [9.8642, 9.9171, 9.8950,  ..., 9.9269, 9.9028, 9.9077],\n",
       "          [9.8939, 9.9101, 9.9033,  ..., 9.9207, 9.9037, 9.9144],\n",
       "          [9.8674, 9.8887, 9.8830,  ..., 9.9191, 9.9034, 9.8647]],\n",
       " \n",
       "         ...,\n",
       " \n",
       "         [[9.8827, 9.8714, 9.8700,  ..., 9.9200, 9.9235, 9.9137],\n",
       "          [9.9029, 9.8934, 9.8989,  ..., 9.9304, 9.9455, 9.9628],\n",
       "          [9.9152, 9.9229, 9.8910,  ..., 9.9162, 9.9218, 9.9086],\n",
       "          ...,\n",
       "          [9.9041, 9.9148, 9.9069,  ..., 9.9010, 9.9083, 9.9056],\n",
       "          [9.8947, 9.9060, 9.8961,  ..., 9.9283, 9.9282, 9.9339],\n",
       "          [9.8790, 9.8728, 9.8726,  ..., 9.8937, 9.9094, 9.9062]],\n",
       " \n",
       "         [[9.8960, 9.9063, 9.9239,  ..., 9.8991, 9.8919, 9.9116],\n",
       "          [9.9034, 9.8967, 9.8979,  ..., 9.9189, 9.9192, 9.9294],\n",
       "          [9.8869, 9.8975, 9.9157,  ..., 9.9000, 9.9065, 9.8976],\n",
       "          ...,\n",
       "          [9.8731, 9.9053, 9.8989,  ..., 9.8898, 9.9035, 9.9076],\n",
       "          [9.9071, 9.9204, 9.8911,  ..., 9.9246, 9.9229, 9.9085],\n",
       "          [9.9064, 9.9226, 9.9335,  ..., 9.9067, 9.9079, 9.8989]],\n",
       " \n",
       "         [[9.8925, 9.9151, 9.9229,  ..., 9.9089, 9.8963, 9.8844],\n",
       "          [9.8914, 9.8643, 9.8398,  ..., 9.9241, 9.9283, 9.9267],\n",
       "          [9.9142, 9.9059, 9.9118,  ..., 9.9372, 9.9334, 9.9005],\n",
       "          ...,\n",
       "          [9.9029, 9.9051, 9.8899,  ..., 9.9198, 9.9125, 9.9145],\n",
       "          [9.9157, 9.8855, 9.8971,  ..., 9.9224, 9.9169, 9.9268],\n",
       "          [9.8933, 9.8910, 9.8910,  ..., 9.8978, 9.9061, 9.8721]]],\n",
       "        device='cuda:0', grad_fn=<SoftplusBackward0>),\n",
       " tensor([[[ 9.8673,  9.8751,  9.8868,  ...,  9.9094,  9.9482,  9.9447],\n",
       "          [ 9.9398,  9.9429,  9.9847,  ...,  9.9301,  9.8882,  9.8425],\n",
       "          [10.0031,  9.8841,  9.8177,  ...,  9.9170,  9.9258,  9.9158],\n",
       "          ...,\n",
       "          [ 9.8658,  9.9181,  9.9043,  ...,  9.8884,  9.9298,  9.9507],\n",
       "          [ 9.9195,  9.9096,  9.8958,  ...,  9.9486,  9.9779,  9.9631],\n",
       "          [ 9.9243,  9.8892,  9.9023,  ...,  9.8400,  9.7791,  9.7770]],\n",
       " \n",
       "         [[ 9.8696,  9.8732,  9.8612,  ...,  9.8859,  9.8932,  9.8844],\n",
       "          [ 9.8812,  9.8996,  9.9153,  ...,  9.9005,  9.9150,  9.9018],\n",
       "          [ 9.8838,  9.8742,  9.8741,  ...,  9.9043,  9.9123,  9.9095],\n",
       "          ...,\n",
       "          [ 9.8803,  9.8822,  9.8872,  ...,  9.8882,  9.8795,  9.8894],\n",
       "          [ 9.9027,  9.9119,  9.9315,  ...,  9.8854,  9.9035,  9.8963],\n",
       "          [ 9.9129,  9.9002,  9.9005,  ...,  9.9099,  9.9000,  9.9109]],\n",
       " \n",
       "         [[ 9.8922,  9.8694,  9.8473,  ...,  9.9073,  9.9171,  9.8901],\n",
       "          [ 9.9278,  9.9335,  9.9011,  ...,  9.8972,  9.8891,  9.8730],\n",
       "          [ 9.9279,  9.8965,  9.8760,  ...,  9.9204,  9.9068,  9.9167],\n",
       "          ...,\n",
       "          [ 9.8864,  9.8782,  9.9116,  ...,  9.8973,  9.9099,  9.8892],\n",
       "          [ 9.8870,  9.9010,  9.8946,  ...,  9.9025,  9.8800,  9.8820],\n",
       "          [ 9.8871,  9.8813,  9.8858,  ...,  9.8708,  9.8774,  9.9099]],\n",
       " \n",
       "         ...,\n",
       " \n",
       "         [[ 9.9022,  9.8860,  9.8679,  ...,  9.8998,  9.9106,  9.8902],\n",
       "          [ 9.9020,  9.9238,  9.9185,  ...,  9.8893,  9.8942,  9.8740],\n",
       "          [ 9.9163,  9.9133,  9.9027,  ...,  9.9267,  9.9257,  9.9156],\n",
       "          ...,\n",
       "          [ 9.8965,  9.8836,  9.8870,  ...,  9.9130,  9.9313,  9.9273],\n",
       "          [ 9.8797,  9.8760,  9.8815,  ...,  9.8877,  9.8916,  9.9126],\n",
       "          [ 9.9017,  9.9156,  9.9207,  ...,  9.9112,  9.8959,  9.9192]],\n",
       " \n",
       "         [[ 9.8796,  9.8668,  9.8641,  ...,  9.8773,  9.8952,  9.9047],\n",
       "          [ 9.8791,  9.8757,  9.9034,  ...,  9.8764,  9.8649,  9.8781],\n",
       "          [ 9.9179,  9.9135,  9.9023,  ...,  9.9143,  9.9129,  9.9069],\n",
       "          ...,\n",
       "          [ 9.8603,  9.8880,  9.9051,  ...,  9.8783,  9.8791,  9.8976],\n",
       "          [ 9.9057,  9.9007,  9.9307,  ...,  9.9066,  9.9003,  9.8835],\n",
       "          [ 9.9082,  9.9141,  9.9156,  ...,  9.9046,  9.8980,  9.9128]],\n",
       " \n",
       "         [[ 9.8805,  9.8837,  9.8904,  ...,  9.8834,  9.9030,  9.8801],\n",
       "          [ 9.9214,  9.9149,  9.9190,  ...,  9.8961,  9.8761,  9.8623],\n",
       "          [ 9.8966,  9.8930,  9.8819,  ...,  9.9166,  9.9105,  9.9094],\n",
       "          ...,\n",
       "          [ 9.8852,  9.8886,  9.8875,  ...,  9.8904,  9.8780,  9.8801],\n",
       "          [ 9.8976,  9.8910,  9.9098,  ...,  9.9197,  9.9302,  9.9110],\n",
       "          [ 9.9085,  9.8923,  9.8878,  ...,  9.8838,  9.8873,  9.8734]]],\n",
       "        device='cuda:0', grad_fn=<SoftplusBackward0>)]"
      ]
     },
     "execution_count": 20,
     "metadata": {},
     "output_type": "execute_result"
    }
   ],
   "source": [
    "result"
   ]
  },
  {
   "cell_type": "code",
   "execution_count": 28,
   "metadata": {},
   "outputs": [],
   "source": [
    "torch.cuda.empty_cache()"
   ]
  },
  {
   "cell_type": "code",
   "execution_count": null,
   "metadata": {},
   "outputs": [],
   "source": []
  }
 ],
 "metadata": {
  "kernelspec": {
   "display_name": ".venv",
   "language": "python",
   "name": "python3"
  },
  "language_info": {
   "codemirror_mode": {
    "name": "ipython",
    "version": 3
   },
   "file_extension": ".py",
   "mimetype": "text/x-python",
   "name": "python",
   "nbconvert_exporter": "python",
   "pygments_lexer": "ipython3",
   "version": "3.10.12"
  }
 },
 "nbformat": 4,
 "nbformat_minor": 2
}
